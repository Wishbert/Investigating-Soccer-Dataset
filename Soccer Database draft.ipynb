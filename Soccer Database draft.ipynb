{
 "cells": [
  {
   "cell_type": "markdown",
   "id": "1b00a5db-907f-43f5-b5a1-064e9d59878e",
   "metadata": {},
   "source": [
    "# Project: Investigate a Dataset - Soccer Database\n",
    "\n",
    "## Table of Contents\n",
    "<ul>\n",
    "<li><a href=\"#intro\">Introduction</a></li>\n",
    "<li><a href=\"#wrangling\">Data Wrangling</a></li>\n",
    "<li><a href=\"#eda\">Exploratory Data Analysis</a></li>\n",
    "<li><a href=\"#conclusions\">Conclusions</a></li>\n",
    "</ul>"
   ]
  },
  {
   "cell_type": "markdown",
   "id": "78aaf34f-d1f2-4bf0-bb8c-54b80939aa41",
   "metadata": {},
   "source": [
    "<a id='intro'></a>\n",
    "## Introduction\n",
    "\n",
    "### Dataset Description \n",
    "Below is what to expect to find in this in the soccer dataset. I acquired this data from  [kaggle](https://www.kaggle.com/datasets/hugomathien/soccer).\n",
    "\n",
    "Soccer dataset for data analysis:\n",
    "\n",
    "- +25,000 matches\n",
    "- +10,000 players \n",
    "- 11 European Countries with their lead championship\n",
    "- Seasons 2008 to 2016\n",
    "- Players and Teams' attributes* sourced from EA Sports' FIFA video game series, including the weekly updates\n",
    "- Team line up with squad formation (X, Y coordinates)\n",
    "- Betting odds from up to 10 providers\n",
    "- Detailed match events (goal types, possession, corner, cross, fouls, cards etc…) for +10,000 matcheAbout Dataset\n",
    "\n",
    "This dataset is stored in a SQLite database.\n",
    "\n",
    "\n",
    "\n",
    "### Questions for Analysis\n",
    ">- **What is the age distribution of players?**\n",
    ">- **What is the most common formation?**\n",
    ">- **What teams improved the most over the time period?**\n",
    ">- **Which players had the most penalties?**\n",
    ">- **What team attributes lead to the most victories?**\n",
    ">- **What player attributes lead to the most victories?**\n",
    ">- **How do the player attributes that lead to most victories change with time?**\n",
    ">- **How does the potential of players over time?**\n"
   ]
  },
  {
   "cell_type": "markdown",
   "id": "4521496a-c0b9-42ea-82fc-c9cef0d170d6",
   "metadata": {},
   "source": [
    " "
   ]
  },
  {
   "cell_type": "code",
   "execution_count": 1,
   "id": "e6513741-35a8-474d-9d83-5f58b5ad9847",
   "metadata": {},
   "outputs": [],
   "source": [
    "# I am importing all the packages I will need\n",
    "\n",
    "import sqlite3\n",
    "import numpy as np\n",
    "import pandas as pd\n",
    "import matplotlib.pyplot as plt\n",
    "%matplotlib inline\n",
    "import seaborn as sns"
   ]
  },
  {
   "cell_type": "markdown",
   "id": "5e36997e-0fc2-466d-9126-4a57a58475f4",
   "metadata": {},
   "source": [
    "## Data Wrangling"
   ]
  },
  {
   "cell_type": "markdown",
   "id": "a1f673a0-318a-4f0f-9c48-cecc2f9de605",
   "metadata": {},
   "source": [
    "I am using sqlite3 package to connect to the sqlite soccer database"
   ]
  },
  {
   "cell_type": "code",
   "execution_count": 2,
   "id": "81ec6ca1-dad3-4e2b-a782-8f4695bc1618",
   "metadata": {},
   "outputs": [],
   "source": [
    "conn = sqlite3.connect('database.sqlite')"
   ]
  },
  {
   "cell_type": "code",
   "execution_count": 3,
   "id": "ef99642e-b082-42c2-a41e-95f715f472e6",
   "metadata": {},
   "outputs": [],
   "source": [
    "cur = conn.cursor()"
   ]
  },
  {
   "cell_type": "markdown",
   "id": "5ae4e183-c407-4d6a-aac8-4c9ec93d5deb",
   "metadata": {},
   "source": [
    "I am looking to see what are the available tables and their names"
   ]
  },
  {
   "cell_type": "code",
   "execution_count": 4,
   "id": "3a3f15a2-f5e8-4732-a20c-18a717c6b828",
   "metadata": {},
   "outputs": [
    {
     "name": "stdout",
     "output_type": "stream",
     "text": [
      "0 sqlite_sequence\n",
      "1 Player_Attributes\n",
      "2 Player\n",
      "3 Match\n",
      "4 League\n",
      "5 Country\n",
      "6 Team\n",
      "7 Team_Attributes\n"
     ]
    }
   ],
   "source": [
    "table_names = cur.execute(\"SELECT name FROM sqlite_master WHERE type='table'\").fetchall()\n",
    "for i,table in enumerate(table_names):\n",
    "    print(i,table[0])"
   ]
  },
  {
   "cell_type": "markdown",
   "id": "4c45fc4f-c926-4d15-b239-d4569dfcd71e",
   "metadata": {},
   "source": [
    " "
   ]
  },
  {
   "cell_type": "markdown",
   "id": "97998c80-96f0-4905-8d14-a7a6977922a6",
   "metadata": {},
   "source": [
    " "
   ]
  },
  {
   "cell_type": "markdown",
   "id": "51635e9b-1d60-4d7d-a3a0-02a5728cb02e",
   "metadata": {},
   "source": [
    "**In the following cells I read in the data from the sqlite database into pandas dataframes for easy exploration and analysis**"
   ]
  },
  {
   "cell_type": "markdown",
   "id": "c67d7fb9-f66b-48bd-b341-8c44ddaea11a",
   "metadata": {},
   "source": [
    "### Player Attributes"
   ]
  },
  {
   "cell_type": "markdown",
   "id": "2e045496-0fc7-4f01-af79-7e4672b05d36",
   "metadata": {},
   "source": [
    "As a non soccer fan I find I am lost trying to understand the player attriibutes.\n",
    "\n",
    "I set out to the internet to find clarity and I found discription of these attributes [here](https://www.guidetofm.com/players/attributes/)"
   ]
  },
  {
   "cell_type": "code",
   "execution_count": 5,
   "id": "470f165a-5d15-4ec6-9890-7e27785521db",
   "metadata": {},
   "outputs": [],
   "source": [
    "ply_attr = pd.read_sql(f'SELECT * FROM player_attributes', conn)"
   ]
  },
  {
   "cell_type": "code",
   "execution_count": 6,
   "id": "be844ac4-ffd7-4110-80a4-1a87c9fb96b4",
   "metadata": {
    "tags": []
   },
   "outputs": [
    {
     "data": {
      "text/html": [
       "<div>\n",
       "<style scoped>\n",
       "    .dataframe tbody tr th:only-of-type {\n",
       "        vertical-align: middle;\n",
       "    }\n",
       "\n",
       "    .dataframe tbody tr th {\n",
       "        vertical-align: top;\n",
       "    }\n",
       "\n",
       "    .dataframe thead th {\n",
       "        text-align: right;\n",
       "    }\n",
       "</style>\n",
       "<table border=\"1\" class=\"dataframe\">\n",
       "  <thead>\n",
       "    <tr style=\"text-align: right;\">\n",
       "      <th></th>\n",
       "      <th>id</th>\n",
       "      <th>player_fifa_api_id</th>\n",
       "      <th>player_api_id</th>\n",
       "      <th>date</th>\n",
       "      <th>overall_rating</th>\n",
       "      <th>potential</th>\n",
       "      <th>preferred_foot</th>\n",
       "      <th>attacking_work_rate</th>\n",
       "      <th>defensive_work_rate</th>\n",
       "      <th>crossing</th>\n",
       "      <th>...</th>\n",
       "      <th>vision</th>\n",
       "      <th>penalties</th>\n",
       "      <th>marking</th>\n",
       "      <th>standing_tackle</th>\n",
       "      <th>sliding_tackle</th>\n",
       "      <th>gk_diving</th>\n",
       "      <th>gk_handling</th>\n",
       "      <th>gk_kicking</th>\n",
       "      <th>gk_positioning</th>\n",
       "      <th>gk_reflexes</th>\n",
       "    </tr>\n",
       "  </thead>\n",
       "  <tbody>\n",
       "    <tr>\n",
       "      <th>0</th>\n",
       "      <td>1</td>\n",
       "      <td>218353</td>\n",
       "      <td>505942</td>\n",
       "      <td>2016-02-18 00:00:00</td>\n",
       "      <td>67.0</td>\n",
       "      <td>71.0</td>\n",
       "      <td>right</td>\n",
       "      <td>medium</td>\n",
       "      <td>medium</td>\n",
       "      <td>49.0</td>\n",
       "      <td>...</td>\n",
       "      <td>54.0</td>\n",
       "      <td>48.0</td>\n",
       "      <td>65.0</td>\n",
       "      <td>69.0</td>\n",
       "      <td>69.0</td>\n",
       "      <td>6.0</td>\n",
       "      <td>11.0</td>\n",
       "      <td>10.0</td>\n",
       "      <td>8.0</td>\n",
       "      <td>8.0</td>\n",
       "    </tr>\n",
       "    <tr>\n",
       "      <th>1</th>\n",
       "      <td>2</td>\n",
       "      <td>218353</td>\n",
       "      <td>505942</td>\n",
       "      <td>2015-11-19 00:00:00</td>\n",
       "      <td>67.0</td>\n",
       "      <td>71.0</td>\n",
       "      <td>right</td>\n",
       "      <td>medium</td>\n",
       "      <td>medium</td>\n",
       "      <td>49.0</td>\n",
       "      <td>...</td>\n",
       "      <td>54.0</td>\n",
       "      <td>48.0</td>\n",
       "      <td>65.0</td>\n",
       "      <td>69.0</td>\n",
       "      <td>69.0</td>\n",
       "      <td>6.0</td>\n",
       "      <td>11.0</td>\n",
       "      <td>10.0</td>\n",
       "      <td>8.0</td>\n",
       "      <td>8.0</td>\n",
       "    </tr>\n",
       "    <tr>\n",
       "      <th>2</th>\n",
       "      <td>3</td>\n",
       "      <td>218353</td>\n",
       "      <td>505942</td>\n",
       "      <td>2015-09-21 00:00:00</td>\n",
       "      <td>62.0</td>\n",
       "      <td>66.0</td>\n",
       "      <td>right</td>\n",
       "      <td>medium</td>\n",
       "      <td>medium</td>\n",
       "      <td>49.0</td>\n",
       "      <td>...</td>\n",
       "      <td>54.0</td>\n",
       "      <td>48.0</td>\n",
       "      <td>65.0</td>\n",
       "      <td>66.0</td>\n",
       "      <td>69.0</td>\n",
       "      <td>6.0</td>\n",
       "      <td>11.0</td>\n",
       "      <td>10.0</td>\n",
       "      <td>8.0</td>\n",
       "      <td>8.0</td>\n",
       "    </tr>\n",
       "    <tr>\n",
       "      <th>3</th>\n",
       "      <td>4</td>\n",
       "      <td>218353</td>\n",
       "      <td>505942</td>\n",
       "      <td>2015-03-20 00:00:00</td>\n",
       "      <td>61.0</td>\n",
       "      <td>65.0</td>\n",
       "      <td>right</td>\n",
       "      <td>medium</td>\n",
       "      <td>medium</td>\n",
       "      <td>48.0</td>\n",
       "      <td>...</td>\n",
       "      <td>53.0</td>\n",
       "      <td>47.0</td>\n",
       "      <td>62.0</td>\n",
       "      <td>63.0</td>\n",
       "      <td>66.0</td>\n",
       "      <td>5.0</td>\n",
       "      <td>10.0</td>\n",
       "      <td>9.0</td>\n",
       "      <td>7.0</td>\n",
       "      <td>7.0</td>\n",
       "    </tr>\n",
       "    <tr>\n",
       "      <th>4</th>\n",
       "      <td>5</td>\n",
       "      <td>218353</td>\n",
       "      <td>505942</td>\n",
       "      <td>2007-02-22 00:00:00</td>\n",
       "      <td>61.0</td>\n",
       "      <td>65.0</td>\n",
       "      <td>right</td>\n",
       "      <td>medium</td>\n",
       "      <td>medium</td>\n",
       "      <td>48.0</td>\n",
       "      <td>...</td>\n",
       "      <td>53.0</td>\n",
       "      <td>47.0</td>\n",
       "      <td>62.0</td>\n",
       "      <td>63.0</td>\n",
       "      <td>66.0</td>\n",
       "      <td>5.0</td>\n",
       "      <td>10.0</td>\n",
       "      <td>9.0</td>\n",
       "      <td>7.0</td>\n",
       "      <td>7.0</td>\n",
       "    </tr>\n",
       "  </tbody>\n",
       "</table>\n",
       "<p>5 rows × 42 columns</p>\n",
       "</div>"
      ],
      "text/plain": [
       "   id  player_fifa_api_id  player_api_id                 date  overall_rating  \\\n",
       "0   1              218353         505942  2016-02-18 00:00:00            67.0   \n",
       "1   2              218353         505942  2015-11-19 00:00:00            67.0   \n",
       "2   3              218353         505942  2015-09-21 00:00:00            62.0   \n",
       "3   4              218353         505942  2015-03-20 00:00:00            61.0   \n",
       "4   5              218353         505942  2007-02-22 00:00:00            61.0   \n",
       "\n",
       "   potential preferred_foot attacking_work_rate defensive_work_rate  crossing  \\\n",
       "0       71.0          right              medium              medium      49.0   \n",
       "1       71.0          right              medium              medium      49.0   \n",
       "2       66.0          right              medium              medium      49.0   \n",
       "3       65.0          right              medium              medium      48.0   \n",
       "4       65.0          right              medium              medium      48.0   \n",
       "\n",
       "   ...  vision  penalties  marking  standing_tackle  sliding_tackle  \\\n",
       "0  ...    54.0       48.0     65.0             69.0            69.0   \n",
       "1  ...    54.0       48.0     65.0             69.0            69.0   \n",
       "2  ...    54.0       48.0     65.0             66.0            69.0   \n",
       "3  ...    53.0       47.0     62.0             63.0            66.0   \n",
       "4  ...    53.0       47.0     62.0             63.0            66.0   \n",
       "\n",
       "   gk_diving  gk_handling  gk_kicking  gk_positioning  gk_reflexes  \n",
       "0        6.0         11.0        10.0             8.0          8.0  \n",
       "1        6.0         11.0        10.0             8.0          8.0  \n",
       "2        6.0         11.0        10.0             8.0          8.0  \n",
       "3        5.0         10.0         9.0             7.0          7.0  \n",
       "4        5.0         10.0         9.0             7.0          7.0  \n",
       "\n",
       "[5 rows x 42 columns]"
      ]
     },
     "execution_count": 6,
     "metadata": {},
     "output_type": "execute_result"
    }
   ],
   "source": [
    "ply_attr.head()"
   ]
  },
  {
   "cell_type": "code",
   "execution_count": 7,
   "id": "92b3e246-b86e-401f-a9a7-8503e17f199b",
   "metadata": {
    "tags": []
   },
   "outputs": [
    {
     "name": "stdout",
     "output_type": "stream",
     "text": [
      "<class 'pandas.core.frame.DataFrame'>\n",
      "RangeIndex: 183978 entries, 0 to 183977\n",
      "Data columns (total 42 columns):\n",
      " #   Column               Non-Null Count   Dtype  \n",
      "---  ------               --------------   -----  \n",
      " 0   id                   183978 non-null  int64  \n",
      " 1   player_fifa_api_id   183978 non-null  int64  \n",
      " 2   player_api_id        183978 non-null  int64  \n",
      " 3   date                 183978 non-null  object \n",
      " 4   overall_rating       183142 non-null  float64\n",
      " 5   potential            183142 non-null  float64\n",
      " 6   preferred_foot       183142 non-null  object \n",
      " 7   attacking_work_rate  180748 non-null  object \n",
      " 8   defensive_work_rate  183142 non-null  object \n",
      " 9   crossing             183142 non-null  float64\n",
      " 10  finishing            183142 non-null  float64\n",
      " 11  heading_accuracy     183142 non-null  float64\n",
      " 12  short_passing        183142 non-null  float64\n",
      " 13  volleys              181265 non-null  float64\n",
      " 14  dribbling            183142 non-null  float64\n",
      " 15  curve                181265 non-null  float64\n",
      " 16  free_kick_accuracy   183142 non-null  float64\n",
      " 17  long_passing         183142 non-null  float64\n",
      " 18  ball_control         183142 non-null  float64\n",
      " 19  acceleration         183142 non-null  float64\n",
      " 20  sprint_speed         183142 non-null  float64\n",
      " 21  agility              181265 non-null  float64\n",
      " 22  reactions            183142 non-null  float64\n",
      " 23  balance              181265 non-null  float64\n",
      " 24  shot_power           183142 non-null  float64\n",
      " 25  jumping              181265 non-null  float64\n",
      " 26  stamina              183142 non-null  float64\n",
      " 27  strength             183142 non-null  float64\n",
      " 28  long_shots           183142 non-null  float64\n",
      " 29  aggression           183142 non-null  float64\n",
      " 30  interceptions        183142 non-null  float64\n",
      " 31  positioning          183142 non-null  float64\n",
      " 32  vision               181265 non-null  float64\n",
      " 33  penalties            183142 non-null  float64\n",
      " 34  marking              183142 non-null  float64\n",
      " 35  standing_tackle      183142 non-null  float64\n",
      " 36  sliding_tackle       181265 non-null  float64\n",
      " 37  gk_diving            183142 non-null  float64\n",
      " 38  gk_handling          183142 non-null  float64\n",
      " 39  gk_kicking           183142 non-null  float64\n",
      " 40  gk_positioning       183142 non-null  float64\n",
      " 41  gk_reflexes          183142 non-null  float64\n",
      "dtypes: float64(35), int64(3), object(4)\n",
      "memory usage: 59.0+ MB\n"
     ]
    }
   ],
   "source": [
    "ply_attr.info()"
   ]
  },
  {
   "cell_type": "code",
   "execution_count": 8,
   "id": "ddd3d0b9-31aa-4066-b8a8-c186989cc49e",
   "metadata": {
    "tags": []
   },
   "outputs": [
    {
     "data": {
      "text/html": [
       "<div>\n",
       "<style scoped>\n",
       "    .dataframe tbody tr th:only-of-type {\n",
       "        vertical-align: middle;\n",
       "    }\n",
       "\n",
       "    .dataframe tbody tr th {\n",
       "        vertical-align: top;\n",
       "    }\n",
       "\n",
       "    .dataframe thead th {\n",
       "        text-align: right;\n",
       "    }\n",
       "</style>\n",
       "<table border=\"1\" class=\"dataframe\">\n",
       "  <thead>\n",
       "    <tr style=\"text-align: right;\">\n",
       "      <th></th>\n",
       "      <th>id</th>\n",
       "      <th>player_fifa_api_id</th>\n",
       "      <th>player_api_id</th>\n",
       "      <th>overall_rating</th>\n",
       "      <th>potential</th>\n",
       "      <th>crossing</th>\n",
       "      <th>finishing</th>\n",
       "      <th>heading_accuracy</th>\n",
       "      <th>short_passing</th>\n",
       "      <th>volleys</th>\n",
       "      <th>...</th>\n",
       "      <th>vision</th>\n",
       "      <th>penalties</th>\n",
       "      <th>marking</th>\n",
       "      <th>standing_tackle</th>\n",
       "      <th>sliding_tackle</th>\n",
       "      <th>gk_diving</th>\n",
       "      <th>gk_handling</th>\n",
       "      <th>gk_kicking</th>\n",
       "      <th>gk_positioning</th>\n",
       "      <th>gk_reflexes</th>\n",
       "    </tr>\n",
       "  </thead>\n",
       "  <tbody>\n",
       "    <tr>\n",
       "      <th>count</th>\n",
       "      <td>183978.00000</td>\n",
       "      <td>183978.000000</td>\n",
       "      <td>183978.000000</td>\n",
       "      <td>183142.000000</td>\n",
       "      <td>183142.000000</td>\n",
       "      <td>183142.000000</td>\n",
       "      <td>183142.000000</td>\n",
       "      <td>183142.000000</td>\n",
       "      <td>183142.000000</td>\n",
       "      <td>181265.000000</td>\n",
       "      <td>...</td>\n",
       "      <td>181265.000000</td>\n",
       "      <td>183142.000000</td>\n",
       "      <td>183142.000000</td>\n",
       "      <td>183142.000000</td>\n",
       "      <td>181265.000000</td>\n",
       "      <td>183142.000000</td>\n",
       "      <td>183142.000000</td>\n",
       "      <td>183142.000000</td>\n",
       "      <td>183142.000000</td>\n",
       "      <td>183142.000000</td>\n",
       "    </tr>\n",
       "    <tr>\n",
       "      <th>mean</th>\n",
       "      <td>91989.50000</td>\n",
       "      <td>165671.524291</td>\n",
       "      <td>135900.617324</td>\n",
       "      <td>68.600015</td>\n",
       "      <td>73.460353</td>\n",
       "      <td>55.086883</td>\n",
       "      <td>49.921078</td>\n",
       "      <td>57.266023</td>\n",
       "      <td>62.429672</td>\n",
       "      <td>49.468436</td>\n",
       "      <td>...</td>\n",
       "      <td>57.873550</td>\n",
       "      <td>55.003986</td>\n",
       "      <td>46.772242</td>\n",
       "      <td>50.351257</td>\n",
       "      <td>48.001462</td>\n",
       "      <td>14.704393</td>\n",
       "      <td>16.063612</td>\n",
       "      <td>20.998362</td>\n",
       "      <td>16.132154</td>\n",
       "      <td>16.441439</td>\n",
       "    </tr>\n",
       "    <tr>\n",
       "      <th>std</th>\n",
       "      <td>53110.01825</td>\n",
       "      <td>53851.094769</td>\n",
       "      <td>136927.840510</td>\n",
       "      <td>7.041139</td>\n",
       "      <td>6.592271</td>\n",
       "      <td>17.242135</td>\n",
       "      <td>19.038705</td>\n",
       "      <td>16.488905</td>\n",
       "      <td>14.194068</td>\n",
       "      <td>18.256618</td>\n",
       "      <td>...</td>\n",
       "      <td>15.144086</td>\n",
       "      <td>15.546519</td>\n",
       "      <td>21.227667</td>\n",
       "      <td>21.483706</td>\n",
       "      <td>21.598778</td>\n",
       "      <td>16.865467</td>\n",
       "      <td>15.867382</td>\n",
       "      <td>21.452980</td>\n",
       "      <td>16.099175</td>\n",
       "      <td>17.198155</td>\n",
       "    </tr>\n",
       "    <tr>\n",
       "      <th>min</th>\n",
       "      <td>1.00000</td>\n",
       "      <td>2.000000</td>\n",
       "      <td>2625.000000</td>\n",
       "      <td>33.000000</td>\n",
       "      <td>39.000000</td>\n",
       "      <td>1.000000</td>\n",
       "      <td>1.000000</td>\n",
       "      <td>1.000000</td>\n",
       "      <td>3.000000</td>\n",
       "      <td>1.000000</td>\n",
       "      <td>...</td>\n",
       "      <td>1.000000</td>\n",
       "      <td>2.000000</td>\n",
       "      <td>1.000000</td>\n",
       "      <td>1.000000</td>\n",
       "      <td>2.000000</td>\n",
       "      <td>1.000000</td>\n",
       "      <td>1.000000</td>\n",
       "      <td>1.000000</td>\n",
       "      <td>1.000000</td>\n",
       "      <td>1.000000</td>\n",
       "    </tr>\n",
       "    <tr>\n",
       "      <th>25%</th>\n",
       "      <td>45995.25000</td>\n",
       "      <td>155798.000000</td>\n",
       "      <td>34763.000000</td>\n",
       "      <td>64.000000</td>\n",
       "      <td>69.000000</td>\n",
       "      <td>45.000000</td>\n",
       "      <td>34.000000</td>\n",
       "      <td>49.000000</td>\n",
       "      <td>57.000000</td>\n",
       "      <td>35.000000</td>\n",
       "      <td>...</td>\n",
       "      <td>49.000000</td>\n",
       "      <td>45.000000</td>\n",
       "      <td>25.000000</td>\n",
       "      <td>29.000000</td>\n",
       "      <td>25.000000</td>\n",
       "      <td>7.000000</td>\n",
       "      <td>8.000000</td>\n",
       "      <td>8.000000</td>\n",
       "      <td>8.000000</td>\n",
       "      <td>8.000000</td>\n",
       "    </tr>\n",
       "    <tr>\n",
       "      <th>50%</th>\n",
       "      <td>91989.50000</td>\n",
       "      <td>183488.000000</td>\n",
       "      <td>77741.000000</td>\n",
       "      <td>69.000000</td>\n",
       "      <td>74.000000</td>\n",
       "      <td>59.000000</td>\n",
       "      <td>53.000000</td>\n",
       "      <td>60.000000</td>\n",
       "      <td>65.000000</td>\n",
       "      <td>52.000000</td>\n",
       "      <td>...</td>\n",
       "      <td>60.000000</td>\n",
       "      <td>57.000000</td>\n",
       "      <td>50.000000</td>\n",
       "      <td>56.000000</td>\n",
       "      <td>53.000000</td>\n",
       "      <td>10.000000</td>\n",
       "      <td>11.000000</td>\n",
       "      <td>12.000000</td>\n",
       "      <td>11.000000</td>\n",
       "      <td>11.000000</td>\n",
       "    </tr>\n",
       "    <tr>\n",
       "      <th>75%</th>\n",
       "      <td>137983.75000</td>\n",
       "      <td>199848.000000</td>\n",
       "      <td>191080.000000</td>\n",
       "      <td>73.000000</td>\n",
       "      <td>78.000000</td>\n",
       "      <td>68.000000</td>\n",
       "      <td>65.000000</td>\n",
       "      <td>68.000000</td>\n",
       "      <td>72.000000</td>\n",
       "      <td>64.000000</td>\n",
       "      <td>...</td>\n",
       "      <td>69.000000</td>\n",
       "      <td>67.000000</td>\n",
       "      <td>66.000000</td>\n",
       "      <td>69.000000</td>\n",
       "      <td>67.000000</td>\n",
       "      <td>13.000000</td>\n",
       "      <td>15.000000</td>\n",
       "      <td>15.000000</td>\n",
       "      <td>15.000000</td>\n",
       "      <td>15.000000</td>\n",
       "    </tr>\n",
       "    <tr>\n",
       "      <th>max</th>\n",
       "      <td>183978.00000</td>\n",
       "      <td>234141.000000</td>\n",
       "      <td>750584.000000</td>\n",
       "      <td>94.000000</td>\n",
       "      <td>97.000000</td>\n",
       "      <td>95.000000</td>\n",
       "      <td>97.000000</td>\n",
       "      <td>98.000000</td>\n",
       "      <td>97.000000</td>\n",
       "      <td>93.000000</td>\n",
       "      <td>...</td>\n",
       "      <td>97.000000</td>\n",
       "      <td>96.000000</td>\n",
       "      <td>96.000000</td>\n",
       "      <td>95.000000</td>\n",
       "      <td>95.000000</td>\n",
       "      <td>94.000000</td>\n",
       "      <td>93.000000</td>\n",
       "      <td>97.000000</td>\n",
       "      <td>96.000000</td>\n",
       "      <td>96.000000</td>\n",
       "    </tr>\n",
       "  </tbody>\n",
       "</table>\n",
       "<p>8 rows × 38 columns</p>\n",
       "</div>"
      ],
      "text/plain": [
       "                 id  player_fifa_api_id  player_api_id  overall_rating  \\\n",
       "count  183978.00000       183978.000000  183978.000000   183142.000000   \n",
       "mean    91989.50000       165671.524291  135900.617324       68.600015   \n",
       "std     53110.01825        53851.094769  136927.840510        7.041139   \n",
       "min         1.00000            2.000000    2625.000000       33.000000   \n",
       "25%     45995.25000       155798.000000   34763.000000       64.000000   \n",
       "50%     91989.50000       183488.000000   77741.000000       69.000000   \n",
       "75%    137983.75000       199848.000000  191080.000000       73.000000   \n",
       "max    183978.00000       234141.000000  750584.000000       94.000000   \n",
       "\n",
       "           potential       crossing      finishing  heading_accuracy  \\\n",
       "count  183142.000000  183142.000000  183142.000000     183142.000000   \n",
       "mean       73.460353      55.086883      49.921078         57.266023   \n",
       "std         6.592271      17.242135      19.038705         16.488905   \n",
       "min        39.000000       1.000000       1.000000          1.000000   \n",
       "25%        69.000000      45.000000      34.000000         49.000000   \n",
       "50%        74.000000      59.000000      53.000000         60.000000   \n",
       "75%        78.000000      68.000000      65.000000         68.000000   \n",
       "max        97.000000      95.000000      97.000000         98.000000   \n",
       "\n",
       "       short_passing        volleys  ...         vision      penalties  \\\n",
       "count  183142.000000  181265.000000  ...  181265.000000  183142.000000   \n",
       "mean       62.429672      49.468436  ...      57.873550      55.003986   \n",
       "std        14.194068      18.256618  ...      15.144086      15.546519   \n",
       "min         3.000000       1.000000  ...       1.000000       2.000000   \n",
       "25%        57.000000      35.000000  ...      49.000000      45.000000   \n",
       "50%        65.000000      52.000000  ...      60.000000      57.000000   \n",
       "75%        72.000000      64.000000  ...      69.000000      67.000000   \n",
       "max        97.000000      93.000000  ...      97.000000      96.000000   \n",
       "\n",
       "             marking  standing_tackle  sliding_tackle      gk_diving  \\\n",
       "count  183142.000000    183142.000000   181265.000000  183142.000000   \n",
       "mean       46.772242        50.351257       48.001462      14.704393   \n",
       "std        21.227667        21.483706       21.598778      16.865467   \n",
       "min         1.000000         1.000000        2.000000       1.000000   \n",
       "25%        25.000000        29.000000       25.000000       7.000000   \n",
       "50%        50.000000        56.000000       53.000000      10.000000   \n",
       "75%        66.000000        69.000000       67.000000      13.000000   \n",
       "max        96.000000        95.000000       95.000000      94.000000   \n",
       "\n",
       "         gk_handling     gk_kicking  gk_positioning    gk_reflexes  \n",
       "count  183142.000000  183142.000000   183142.000000  183142.000000  \n",
       "mean       16.063612      20.998362       16.132154      16.441439  \n",
       "std        15.867382      21.452980       16.099175      17.198155  \n",
       "min         1.000000       1.000000        1.000000       1.000000  \n",
       "25%         8.000000       8.000000        8.000000       8.000000  \n",
       "50%        11.000000      12.000000       11.000000      11.000000  \n",
       "75%        15.000000      15.000000       15.000000      15.000000  \n",
       "max        93.000000      97.000000       96.000000      96.000000  \n",
       "\n",
       "[8 rows x 38 columns]"
      ]
     },
     "execution_count": 8,
     "metadata": {},
     "output_type": "execute_result"
    }
   ],
   "source": [
    "ply_attr.describe()"
   ]
  },
  {
   "cell_type": "markdown",
   "id": "8cf87d05-f1e9-49c6-be9e-3a5eb32aaba4",
   "metadata": {},
   "source": [
    "### Players"
   ]
  },
  {
   "cell_type": "code",
   "execution_count": 9,
   "id": "c34c4cfd-d9ce-43b7-a85f-3099ce7c2ee2",
   "metadata": {},
   "outputs": [],
   "source": [
    "players = pd.read_sql(f'SELECT * FROM player', conn)"
   ]
  },
  {
   "cell_type": "code",
   "execution_count": 10,
   "id": "5bd2b4a8-d514-4d0f-ba81-97cfbb50c056",
   "metadata": {
    "tags": []
   },
   "outputs": [
    {
     "data": {
      "text/html": [
       "<div>\n",
       "<style scoped>\n",
       "    .dataframe tbody tr th:only-of-type {\n",
       "        vertical-align: middle;\n",
       "    }\n",
       "\n",
       "    .dataframe tbody tr th {\n",
       "        vertical-align: top;\n",
       "    }\n",
       "\n",
       "    .dataframe thead th {\n",
       "        text-align: right;\n",
       "    }\n",
       "</style>\n",
       "<table border=\"1\" class=\"dataframe\">\n",
       "  <thead>\n",
       "    <tr style=\"text-align: right;\">\n",
       "      <th></th>\n",
       "      <th>id</th>\n",
       "      <th>player_api_id</th>\n",
       "      <th>player_name</th>\n",
       "      <th>player_fifa_api_id</th>\n",
       "      <th>birthday</th>\n",
       "      <th>height</th>\n",
       "      <th>weight</th>\n",
       "    </tr>\n",
       "  </thead>\n",
       "  <tbody>\n",
       "    <tr>\n",
       "      <th>0</th>\n",
       "      <td>1</td>\n",
       "      <td>505942</td>\n",
       "      <td>Aaron Appindangoye</td>\n",
       "      <td>218353</td>\n",
       "      <td>1992-02-29 00:00:00</td>\n",
       "      <td>182.88</td>\n",
       "      <td>187</td>\n",
       "    </tr>\n",
       "    <tr>\n",
       "      <th>1</th>\n",
       "      <td>2</td>\n",
       "      <td>155782</td>\n",
       "      <td>Aaron Cresswell</td>\n",
       "      <td>189615</td>\n",
       "      <td>1989-12-15 00:00:00</td>\n",
       "      <td>170.18</td>\n",
       "      <td>146</td>\n",
       "    </tr>\n",
       "    <tr>\n",
       "      <th>2</th>\n",
       "      <td>3</td>\n",
       "      <td>162549</td>\n",
       "      <td>Aaron Doran</td>\n",
       "      <td>186170</td>\n",
       "      <td>1991-05-13 00:00:00</td>\n",
       "      <td>170.18</td>\n",
       "      <td>163</td>\n",
       "    </tr>\n",
       "    <tr>\n",
       "      <th>3</th>\n",
       "      <td>4</td>\n",
       "      <td>30572</td>\n",
       "      <td>Aaron Galindo</td>\n",
       "      <td>140161</td>\n",
       "      <td>1982-05-08 00:00:00</td>\n",
       "      <td>182.88</td>\n",
       "      <td>198</td>\n",
       "    </tr>\n",
       "    <tr>\n",
       "      <th>4</th>\n",
       "      <td>5</td>\n",
       "      <td>23780</td>\n",
       "      <td>Aaron Hughes</td>\n",
       "      <td>17725</td>\n",
       "      <td>1979-11-08 00:00:00</td>\n",
       "      <td>182.88</td>\n",
       "      <td>154</td>\n",
       "    </tr>\n",
       "  </tbody>\n",
       "</table>\n",
       "</div>"
      ],
      "text/plain": [
       "   id  player_api_id         player_name  player_fifa_api_id  \\\n",
       "0   1         505942  Aaron Appindangoye              218353   \n",
       "1   2         155782     Aaron Cresswell              189615   \n",
       "2   3         162549         Aaron Doran              186170   \n",
       "3   4          30572       Aaron Galindo              140161   \n",
       "4   5          23780        Aaron Hughes               17725   \n",
       "\n",
       "              birthday  height  weight  \n",
       "0  1992-02-29 00:00:00  182.88     187  \n",
       "1  1989-12-15 00:00:00  170.18     146  \n",
       "2  1991-05-13 00:00:00  170.18     163  \n",
       "3  1982-05-08 00:00:00  182.88     198  \n",
       "4  1979-11-08 00:00:00  182.88     154  "
      ]
     },
     "execution_count": 10,
     "metadata": {},
     "output_type": "execute_result"
    }
   ],
   "source": [
    "players.head()"
   ]
  },
  {
   "cell_type": "code",
   "execution_count": 11,
   "id": "002aa9c6-b6a7-4c54-8290-879b0dfeab38",
   "metadata": {
    "tags": []
   },
   "outputs": [
    {
     "name": "stdout",
     "output_type": "stream",
     "text": [
      "<class 'pandas.core.frame.DataFrame'>\n",
      "RangeIndex: 11060 entries, 0 to 11059\n",
      "Data columns (total 7 columns):\n",
      " #   Column              Non-Null Count  Dtype  \n",
      "---  ------              --------------  -----  \n",
      " 0   id                  11060 non-null  int64  \n",
      " 1   player_api_id       11060 non-null  int64  \n",
      " 2   player_name         11060 non-null  object \n",
      " 3   player_fifa_api_id  11060 non-null  int64  \n",
      " 4   birthday            11060 non-null  object \n",
      " 5   height              11060 non-null  float64\n",
      " 6   weight              11060 non-null  int64  \n",
      "dtypes: float64(1), int64(4), object(2)\n",
      "memory usage: 605.0+ KB\n"
     ]
    }
   ],
   "source": [
    "players.info()"
   ]
  },
  {
   "cell_type": "markdown",
   "id": "2bd9cdc0-7ce4-44d9-9037-1168e8e625e6",
   "metadata": {},
   "source": [
    " \n",
    " \n",
    " \n",
    " "
   ]
  },
  {
   "cell_type": "markdown",
   "id": "c0df7378-c9e4-4235-b5da-17d17632dc2b",
   "metadata": {},
   "source": [
    " "
   ]
  },
  {
   "cell_type": "markdown",
   "id": "3d4e5729-208f-44dc-af61-252d589b7ff3",
   "metadata": {},
   "source": [
    "I am looking to see if there are duplicated rows and remove them"
   ]
  },
  {
   "cell_type": "code",
   "execution_count": 12,
   "id": "fea18abd-ab6e-4648-b97f-dad55059667d",
   "metadata": {},
   "outputs": [
    {
     "data": {
      "text/plain": [
       "0"
      ]
     },
     "execution_count": 12,
     "metadata": {},
     "output_type": "execute_result"
    }
   ],
   "source": [
    "sum(players.duplicated())"
   ]
  },
  {
   "cell_type": "markdown",
   "id": "adb47f02-f6d6-42f8-bdad-3f56ebd30be2",
   "metadata": {},
   "source": [
    " "
   ]
  },
  {
   "cell_type": "markdown",
   "id": "62595750-bbea-4383-b508-4af720abbde9",
   "metadata": {},
   "source": [
    "I am converting the players dataframe datatypes to appropriate types\n",
    "\n",
    "- `birthday` to `datatime`\n",
    "- `weight` to `float`"
   ]
  },
  {
   "cell_type": "code",
   "execution_count": 13,
   "id": "971f5429-26d0-4f93-9bec-8117d772554e",
   "metadata": {},
   "outputs": [],
   "source": [
    "players.birthday = pd.to_datetime(players.birthday)"
   ]
  },
  {
   "cell_type": "code",
   "execution_count": 14,
   "id": "35239744-9910-4360-bcbb-ce06f763211c",
   "metadata": {},
   "outputs": [],
   "source": [
    "players.weight = players.weight.astype(float)"
   ]
  },
  {
   "cell_type": "code",
   "execution_count": 15,
   "id": "6d098644-a29b-44ea-8826-5b5975356ddd",
   "metadata": {},
   "outputs": [
    {
     "name": "stdout",
     "output_type": "stream",
     "text": [
      "<class 'pandas.core.frame.DataFrame'>\n",
      "RangeIndex: 11060 entries, 0 to 11059\n",
      "Data columns (total 7 columns):\n",
      " #   Column              Non-Null Count  Dtype         \n",
      "---  ------              --------------  -----         \n",
      " 0   id                  11060 non-null  int64         \n",
      " 1   player_api_id       11060 non-null  int64         \n",
      " 2   player_name         11060 non-null  object        \n",
      " 3   player_fifa_api_id  11060 non-null  int64         \n",
      " 4   birthday            11060 non-null  datetime64[ns]\n",
      " 5   height              11060 non-null  float64       \n",
      " 6   weight              11060 non-null  float64       \n",
      "dtypes: datetime64[ns](1), float64(2), int64(3), object(1)\n",
      "memory usage: 605.0+ KB\n"
     ]
    }
   ],
   "source": [
    "players.info()"
   ]
  },
  {
   "cell_type": "code",
   "execution_count": 16,
   "id": "918713da-87a7-40bc-8424-acbe312d4fa2",
   "metadata": {
    "tags": []
   },
   "outputs": [
    {
     "data": {
      "text/html": [
       "<div>\n",
       "<style scoped>\n",
       "    .dataframe tbody tr th:only-of-type {\n",
       "        vertical-align: middle;\n",
       "    }\n",
       "\n",
       "    .dataframe tbody tr th {\n",
       "        vertical-align: top;\n",
       "    }\n",
       "\n",
       "    .dataframe thead th {\n",
       "        text-align: right;\n",
       "    }\n",
       "</style>\n",
       "<table border=\"1\" class=\"dataframe\">\n",
       "  <thead>\n",
       "    <tr style=\"text-align: right;\">\n",
       "      <th></th>\n",
       "      <th>id</th>\n",
       "      <th>player_api_id</th>\n",
       "      <th>player_fifa_api_id</th>\n",
       "      <th>height</th>\n",
       "      <th>weight</th>\n",
       "    </tr>\n",
       "  </thead>\n",
       "  <tbody>\n",
       "    <tr>\n",
       "      <th>count</th>\n",
       "      <td>11060.000000</td>\n",
       "      <td>11060.000000</td>\n",
       "      <td>11060.000000</td>\n",
       "      <td>11060.000000</td>\n",
       "      <td>11060.000000</td>\n",
       "    </tr>\n",
       "    <tr>\n",
       "      <th>mean</th>\n",
       "      <td>5537.511392</td>\n",
       "      <td>156582.427215</td>\n",
       "      <td>165664.910488</td>\n",
       "      <td>181.867445</td>\n",
       "      <td>168.380289</td>\n",
       "    </tr>\n",
       "    <tr>\n",
       "      <th>std</th>\n",
       "      <td>3197.692647</td>\n",
       "      <td>160713.700624</td>\n",
       "      <td>58649.928360</td>\n",
       "      <td>6.369201</td>\n",
       "      <td>14.990217</td>\n",
       "    </tr>\n",
       "    <tr>\n",
       "      <th>min</th>\n",
       "      <td>1.000000</td>\n",
       "      <td>2625.000000</td>\n",
       "      <td>2.000000</td>\n",
       "      <td>157.480000</td>\n",
       "      <td>117.000000</td>\n",
       "    </tr>\n",
       "    <tr>\n",
       "      <th>25%</th>\n",
       "      <td>2767.750000</td>\n",
       "      <td>35555.500000</td>\n",
       "      <td>151889.500000</td>\n",
       "      <td>177.800000</td>\n",
       "      <td>159.000000</td>\n",
       "    </tr>\n",
       "    <tr>\n",
       "      <th>50%</th>\n",
       "      <td>5536.500000</td>\n",
       "      <td>96619.500000</td>\n",
       "      <td>184671.000000</td>\n",
       "      <td>182.880000</td>\n",
       "      <td>168.000000</td>\n",
       "    </tr>\n",
       "    <tr>\n",
       "      <th>75%</th>\n",
       "      <td>8306.250000</td>\n",
       "      <td>212470.500000</td>\n",
       "      <td>203883.250000</td>\n",
       "      <td>185.420000</td>\n",
       "      <td>179.000000</td>\n",
       "    </tr>\n",
       "    <tr>\n",
       "      <th>max</th>\n",
       "      <td>11075.000000</td>\n",
       "      <td>750584.000000</td>\n",
       "      <td>234141.000000</td>\n",
       "      <td>208.280000</td>\n",
       "      <td>243.000000</td>\n",
       "    </tr>\n",
       "  </tbody>\n",
       "</table>\n",
       "</div>"
      ],
      "text/plain": [
       "                 id  player_api_id  player_fifa_api_id        height  \\\n",
       "count  11060.000000   11060.000000        11060.000000  11060.000000   \n",
       "mean    5537.511392  156582.427215       165664.910488    181.867445   \n",
       "std     3197.692647  160713.700624        58649.928360      6.369201   \n",
       "min        1.000000    2625.000000            2.000000    157.480000   \n",
       "25%     2767.750000   35555.500000       151889.500000    177.800000   \n",
       "50%     5536.500000   96619.500000       184671.000000    182.880000   \n",
       "75%     8306.250000  212470.500000       203883.250000    185.420000   \n",
       "max    11075.000000  750584.000000       234141.000000    208.280000   \n",
       "\n",
       "             weight  \n",
       "count  11060.000000  \n",
       "mean     168.380289  \n",
       "std       14.990217  \n",
       "min      117.000000  \n",
       "25%      159.000000  \n",
       "50%      168.000000  \n",
       "75%      179.000000  \n",
       "max      243.000000  "
      ]
     },
     "execution_count": 16,
     "metadata": {},
     "output_type": "execute_result"
    }
   ],
   "source": [
    "players.describe()"
   ]
  },
  {
   "cell_type": "markdown",
   "id": "3c627bd3-0fa7-4742-84b2-51e51b34a66f",
   "metadata": {},
   "source": [
    "### Matches"
   ]
  },
  {
   "cell_type": "code",
   "execution_count": 17,
   "id": "9f78213b-349d-4817-8c03-db82031f27dd",
   "metadata": {},
   "outputs": [],
   "source": [
    "matches = pd.read_sql(f\"SELECT * FROM match\", conn)"
   ]
  },
  {
   "cell_type": "code",
   "execution_count": 18,
   "id": "313f35c0-5031-47cc-931a-f1a06215cb14",
   "metadata": {
    "tags": []
   },
   "outputs": [
    {
     "data": {
      "text/html": [
       "<div>\n",
       "<style scoped>\n",
       "    .dataframe tbody tr th:only-of-type {\n",
       "        vertical-align: middle;\n",
       "    }\n",
       "\n",
       "    .dataframe tbody tr th {\n",
       "        vertical-align: top;\n",
       "    }\n",
       "\n",
       "    .dataframe thead th {\n",
       "        text-align: right;\n",
       "    }\n",
       "</style>\n",
       "<table border=\"1\" class=\"dataframe\">\n",
       "  <thead>\n",
       "    <tr style=\"text-align: right;\">\n",
       "      <th></th>\n",
       "      <th>id</th>\n",
       "      <th>country_id</th>\n",
       "      <th>league_id</th>\n",
       "      <th>season</th>\n",
       "      <th>stage</th>\n",
       "      <th>date</th>\n",
       "      <th>match_api_id</th>\n",
       "      <th>home_team_api_id</th>\n",
       "      <th>away_team_api_id</th>\n",
       "      <th>home_team_goal</th>\n",
       "      <th>...</th>\n",
       "      <th>SJA</th>\n",
       "      <th>VCH</th>\n",
       "      <th>VCD</th>\n",
       "      <th>VCA</th>\n",
       "      <th>GBH</th>\n",
       "      <th>GBD</th>\n",
       "      <th>GBA</th>\n",
       "      <th>BSH</th>\n",
       "      <th>BSD</th>\n",
       "      <th>BSA</th>\n",
       "    </tr>\n",
       "  </thead>\n",
       "  <tbody>\n",
       "    <tr>\n",
       "      <th>0</th>\n",
       "      <td>1</td>\n",
       "      <td>1</td>\n",
       "      <td>1</td>\n",
       "      <td>2008/2009</td>\n",
       "      <td>1</td>\n",
       "      <td>2008-08-17 00:00:00</td>\n",
       "      <td>492473</td>\n",
       "      <td>9987</td>\n",
       "      <td>9993</td>\n",
       "      <td>1</td>\n",
       "      <td>...</td>\n",
       "      <td>4.00</td>\n",
       "      <td>1.65</td>\n",
       "      <td>3.40</td>\n",
       "      <td>4.50</td>\n",
       "      <td>1.78</td>\n",
       "      <td>3.25</td>\n",
       "      <td>4.00</td>\n",
       "      <td>1.73</td>\n",
       "      <td>3.40</td>\n",
       "      <td>4.20</td>\n",
       "    </tr>\n",
       "    <tr>\n",
       "      <th>1</th>\n",
       "      <td>2</td>\n",
       "      <td>1</td>\n",
       "      <td>1</td>\n",
       "      <td>2008/2009</td>\n",
       "      <td>1</td>\n",
       "      <td>2008-08-16 00:00:00</td>\n",
       "      <td>492474</td>\n",
       "      <td>10000</td>\n",
       "      <td>9994</td>\n",
       "      <td>0</td>\n",
       "      <td>...</td>\n",
       "      <td>3.80</td>\n",
       "      <td>2.00</td>\n",
       "      <td>3.25</td>\n",
       "      <td>3.25</td>\n",
       "      <td>1.85</td>\n",
       "      <td>3.25</td>\n",
       "      <td>3.75</td>\n",
       "      <td>1.91</td>\n",
       "      <td>3.25</td>\n",
       "      <td>3.60</td>\n",
       "    </tr>\n",
       "    <tr>\n",
       "      <th>2</th>\n",
       "      <td>3</td>\n",
       "      <td>1</td>\n",
       "      <td>1</td>\n",
       "      <td>2008/2009</td>\n",
       "      <td>1</td>\n",
       "      <td>2008-08-16 00:00:00</td>\n",
       "      <td>492475</td>\n",
       "      <td>9984</td>\n",
       "      <td>8635</td>\n",
       "      <td>0</td>\n",
       "      <td>...</td>\n",
       "      <td>2.50</td>\n",
       "      <td>2.35</td>\n",
       "      <td>3.25</td>\n",
       "      <td>2.65</td>\n",
       "      <td>2.50</td>\n",
       "      <td>3.20</td>\n",
       "      <td>2.50</td>\n",
       "      <td>2.30</td>\n",
       "      <td>3.20</td>\n",
       "      <td>2.75</td>\n",
       "    </tr>\n",
       "    <tr>\n",
       "      <th>3</th>\n",
       "      <td>4</td>\n",
       "      <td>1</td>\n",
       "      <td>1</td>\n",
       "      <td>2008/2009</td>\n",
       "      <td>1</td>\n",
       "      <td>2008-08-17 00:00:00</td>\n",
       "      <td>492476</td>\n",
       "      <td>9991</td>\n",
       "      <td>9998</td>\n",
       "      <td>5</td>\n",
       "      <td>...</td>\n",
       "      <td>7.50</td>\n",
       "      <td>1.45</td>\n",
       "      <td>3.75</td>\n",
       "      <td>6.50</td>\n",
       "      <td>1.50</td>\n",
       "      <td>3.75</td>\n",
       "      <td>5.50</td>\n",
       "      <td>1.44</td>\n",
       "      <td>3.75</td>\n",
       "      <td>6.50</td>\n",
       "    </tr>\n",
       "    <tr>\n",
       "      <th>4</th>\n",
       "      <td>5</td>\n",
       "      <td>1</td>\n",
       "      <td>1</td>\n",
       "      <td>2008/2009</td>\n",
       "      <td>1</td>\n",
       "      <td>2008-08-16 00:00:00</td>\n",
       "      <td>492477</td>\n",
       "      <td>7947</td>\n",
       "      <td>9985</td>\n",
       "      <td>1</td>\n",
       "      <td>...</td>\n",
       "      <td>1.73</td>\n",
       "      <td>4.50</td>\n",
       "      <td>3.40</td>\n",
       "      <td>1.65</td>\n",
       "      <td>4.50</td>\n",
       "      <td>3.50</td>\n",
       "      <td>1.65</td>\n",
       "      <td>4.75</td>\n",
       "      <td>3.30</td>\n",
       "      <td>1.67</td>\n",
       "    </tr>\n",
       "  </tbody>\n",
       "</table>\n",
       "<p>5 rows × 115 columns</p>\n",
       "</div>"
      ],
      "text/plain": [
       "   id  country_id  league_id     season  stage                 date  \\\n",
       "0   1           1          1  2008/2009      1  2008-08-17 00:00:00   \n",
       "1   2           1          1  2008/2009      1  2008-08-16 00:00:00   \n",
       "2   3           1          1  2008/2009      1  2008-08-16 00:00:00   \n",
       "3   4           1          1  2008/2009      1  2008-08-17 00:00:00   \n",
       "4   5           1          1  2008/2009      1  2008-08-16 00:00:00   \n",
       "\n",
       "   match_api_id  home_team_api_id  away_team_api_id  home_team_goal  ...  \\\n",
       "0        492473              9987              9993               1  ...   \n",
       "1        492474             10000              9994               0  ...   \n",
       "2        492475              9984              8635               0  ...   \n",
       "3        492476              9991              9998               5  ...   \n",
       "4        492477              7947              9985               1  ...   \n",
       "\n",
       "    SJA   VCH   VCD   VCA   GBH   GBD   GBA   BSH   BSD   BSA  \n",
       "0  4.00  1.65  3.40  4.50  1.78  3.25  4.00  1.73  3.40  4.20  \n",
       "1  3.80  2.00  3.25  3.25  1.85  3.25  3.75  1.91  3.25  3.60  \n",
       "2  2.50  2.35  3.25  2.65  2.50  3.20  2.50  2.30  3.20  2.75  \n",
       "3  7.50  1.45  3.75  6.50  1.50  3.75  5.50  1.44  3.75  6.50  \n",
       "4  1.73  4.50  3.40  1.65  4.50  3.50  1.65  4.75  3.30  1.67  \n",
       "\n",
       "[5 rows x 115 columns]"
      ]
     },
     "execution_count": 18,
     "metadata": {},
     "output_type": "execute_result"
    }
   ],
   "source": [
    "matches.head()"
   ]
  },
  {
   "cell_type": "code",
   "execution_count": 19,
   "id": "6efdaf61-cf26-4eb6-aebc-8a8d5e1a4e6e",
   "metadata": {
    "tags": []
   },
   "outputs": [
    {
     "data": {
      "text/plain": [
       "array(['id', 'country_id', 'league_id', 'season', 'stage', 'date',\n",
       "       'match_api_id', 'home_team_api_id', 'away_team_api_id',\n",
       "       'home_team_goal', 'away_team_goal', 'home_player_X1',\n",
       "       'home_player_X2', 'home_player_X3', 'home_player_X4',\n",
       "       'home_player_X5', 'home_player_X6', 'home_player_X7',\n",
       "       'home_player_X8', 'home_player_X9', 'home_player_X10',\n",
       "       'home_player_X11', 'away_player_X1', 'away_player_X2',\n",
       "       'away_player_X3', 'away_player_X4', 'away_player_X5',\n",
       "       'away_player_X6', 'away_player_X7', 'away_player_X8',\n",
       "       'away_player_X9', 'away_player_X10', 'away_player_X11',\n",
       "       'home_player_Y1', 'home_player_Y2', 'home_player_Y3',\n",
       "       'home_player_Y4', 'home_player_Y5', 'home_player_Y6',\n",
       "       'home_player_Y7', 'home_player_Y8', 'home_player_Y9',\n",
       "       'home_player_Y10', 'home_player_Y11', 'away_player_Y1',\n",
       "       'away_player_Y2', 'away_player_Y3', 'away_player_Y4',\n",
       "       'away_player_Y5', 'away_player_Y6', 'away_player_Y7',\n",
       "       'away_player_Y8', 'away_player_Y9', 'away_player_Y10',\n",
       "       'away_player_Y11', 'home_player_1', 'home_player_2',\n",
       "       'home_player_3', 'home_player_4', 'home_player_5', 'home_player_6',\n",
       "       'home_player_7', 'home_player_8', 'home_player_9',\n",
       "       'home_player_10', 'home_player_11', 'away_player_1',\n",
       "       'away_player_2', 'away_player_3', 'away_player_4', 'away_player_5',\n",
       "       'away_player_6', 'away_player_7', 'away_player_8', 'away_player_9',\n",
       "       'away_player_10', 'away_player_11', 'goal', 'shoton', 'shotoff',\n",
       "       'foulcommit', 'card', 'cross', 'corner', 'possession', 'B365H',\n",
       "       'B365D', 'B365A', 'BWH', 'BWD', 'BWA', 'IWH', 'IWD', 'IWA', 'LBH',\n",
       "       'LBD', 'LBA', 'PSH', 'PSD', 'PSA', 'WHH', 'WHD', 'WHA', 'SJH',\n",
       "       'SJD', 'SJA', 'VCH', 'VCD', 'VCA', 'GBH', 'GBD', 'GBA', 'BSH',\n",
       "       'BSD', 'BSA'], dtype=object)"
      ]
     },
     "execution_count": 19,
     "metadata": {},
     "output_type": "execute_result"
    }
   ],
   "source": [
    "matches.columns.values"
   ]
  },
  {
   "cell_type": "markdown",
   "id": "fa52c7a9-2132-4a37-a866-57d6cfdcf0c5",
   "metadata": {},
   "source": [
    " "
   ]
  },
  {
   "cell_type": "markdown",
   "id": "2a33e9d2-b7aa-4540-9838-a158ad7ca665",
   "metadata": {},
   "source": [
    " "
   ]
  },
  {
   "cell_type": "markdown",
   "id": "547993e7-e2f7-4a93-be69-8744981d3211",
   "metadata": {},
   "source": [
    "I am looking to see the datatypes of the matches dataframe"
   ]
  },
  {
   "cell_type": "code",
   "execution_count": 20,
   "id": "7b0881a7-9087-4b95-81dc-272792ddb15c",
   "metadata": {},
   "outputs": [
    {
     "name": "stdout",
     "output_type": "stream",
     "text": [
      "<class 'pandas.core.frame.DataFrame'>\n",
      "RangeIndex: 25979 entries, 0 to 25978\n",
      "Data columns (total 115 columns):\n",
      " #    Column            Dtype  \n",
      "---   ------            -----  \n",
      " 0    id                int64  \n",
      " 1    country_id        int64  \n",
      " 2    league_id         int64  \n",
      " 3    season            object \n",
      " 4    stage             int64  \n",
      " 5    date              object \n",
      " 6    match_api_id      int64  \n",
      " 7    home_team_api_id  int64  \n",
      " 8    away_team_api_id  int64  \n",
      " 9    home_team_goal    int64  \n",
      " 10   away_team_goal    int64  \n",
      " 11   home_player_X1    float64\n",
      " 12   home_player_X2    float64\n",
      " 13   home_player_X3    float64\n",
      " 14   home_player_X4    float64\n",
      " 15   home_player_X5    float64\n",
      " 16   home_player_X6    float64\n",
      " 17   home_player_X7    float64\n",
      " 18   home_player_X8    float64\n",
      " 19   home_player_X9    float64\n",
      " 20   home_player_X10   float64\n",
      " 21   home_player_X11   float64\n",
      " 22   away_player_X1    float64\n",
      " 23   away_player_X2    float64\n",
      " 24   away_player_X3    float64\n",
      " 25   away_player_X4    float64\n",
      " 26   away_player_X5    float64\n",
      " 27   away_player_X6    float64\n",
      " 28   away_player_X7    float64\n",
      " 29   away_player_X8    float64\n",
      " 30   away_player_X9    float64\n",
      " 31   away_player_X10   float64\n",
      " 32   away_player_X11   float64\n",
      " 33   home_player_Y1    float64\n",
      " 34   home_player_Y2    float64\n",
      " 35   home_player_Y3    float64\n",
      " 36   home_player_Y4    float64\n",
      " 37   home_player_Y5    float64\n",
      " 38   home_player_Y6    float64\n",
      " 39   home_player_Y7    float64\n",
      " 40   home_player_Y8    float64\n",
      " 41   home_player_Y9    float64\n",
      " 42   home_player_Y10   float64\n",
      " 43   home_player_Y11   float64\n",
      " 44   away_player_Y1    float64\n",
      " 45   away_player_Y2    float64\n",
      " 46   away_player_Y3    float64\n",
      " 47   away_player_Y4    float64\n",
      " 48   away_player_Y5    float64\n",
      " 49   away_player_Y6    float64\n",
      " 50   away_player_Y7    float64\n",
      " 51   away_player_Y8    float64\n",
      " 52   away_player_Y9    float64\n",
      " 53   away_player_Y10   float64\n",
      " 54   away_player_Y11   float64\n",
      " 55   home_player_1     float64\n",
      " 56   home_player_2     float64\n",
      " 57   home_player_3     float64\n",
      " 58   home_player_4     float64\n",
      " 59   home_player_5     float64\n",
      " 60   home_player_6     float64\n",
      " 61   home_player_7     float64\n",
      " 62   home_player_8     float64\n",
      " 63   home_player_9     float64\n",
      " 64   home_player_10    float64\n",
      " 65   home_player_11    float64\n",
      " 66   away_player_1     float64\n",
      " 67   away_player_2     float64\n",
      " 68   away_player_3     float64\n",
      " 69   away_player_4     float64\n",
      " 70   away_player_5     float64\n",
      " 71   away_player_6     float64\n",
      " 72   away_player_7     float64\n",
      " 73   away_player_8     float64\n",
      " 74   away_player_9     float64\n",
      " 75   away_player_10    float64\n",
      " 76   away_player_11    float64\n",
      " 77   goal              object \n",
      " 78   shoton            object \n",
      " 79   shotoff           object \n",
      " 80   foulcommit        object \n",
      " 81   card              object \n",
      " 82   cross             object \n",
      " 83   corner            object \n",
      " 84   possession        object \n",
      " 85   B365H             float64\n",
      " 86   B365D             float64\n",
      " 87   B365A             float64\n",
      " 88   BWH               float64\n",
      " 89   BWD               float64\n",
      " 90   BWA               float64\n",
      " 91   IWH               float64\n",
      " 92   IWD               float64\n",
      " 93   IWA               float64\n",
      " 94   LBH               float64\n",
      " 95   LBD               float64\n",
      " 96   LBA               float64\n",
      " 97   PSH               float64\n",
      " 98   PSD               float64\n",
      " 99   PSA               float64\n",
      " 100  WHH               float64\n",
      " 101  WHD               float64\n",
      " 102  WHA               float64\n",
      " 103  SJH               float64\n",
      " 104  SJD               float64\n",
      " 105  SJA               float64\n",
      " 106  VCH               float64\n",
      " 107  VCD               float64\n",
      " 108  VCA               float64\n",
      " 109  GBH               float64\n",
      " 110  GBD               float64\n",
      " 111  GBA               float64\n",
      " 112  BSH               float64\n",
      " 113  BSD               float64\n",
      " 114  BSA               float64\n",
      "dtypes: float64(96), int64(9), object(10)\n",
      "memory usage: 22.8+ MB\n"
     ]
    }
   ],
   "source": [
    "matches.info(verbose=True)"
   ]
  },
  {
   "cell_type": "code",
   "execution_count": 21,
   "id": "b2ff5360-58bc-4b36-8841-fee2a7aeb508",
   "metadata": {},
   "outputs": [
    {
     "data": {
      "text/plain": [
       "0"
      ]
     },
     "execution_count": 21,
     "metadata": {},
     "output_type": "execute_result"
    }
   ],
   "source": [
    "sum(matches.duplicated())"
   ]
  },
  {
   "cell_type": "code",
   "execution_count": null,
   "id": "acce91d2-e26b-4e5f-a29e-e4ec77c20e25",
   "metadata": {},
   "outputs": [],
   "source": []
  },
  {
   "cell_type": "code",
   "execution_count": null,
   "id": "1782bd84-a6a4-41e1-9ed7-eaa58058ecaf",
   "metadata": {},
   "outputs": [],
   "source": []
  },
  {
   "cell_type": "markdown",
   "id": "39b0203a-6a84-4cb2-8c91-d1903945ccbb",
   "metadata": {},
   "source": [
    "below I will clean the matches data in these columns `goal, shoton, shotoff, foulcommit, card, cross, corner, possession`. The data is in the form of markdown format."
   ]
  },
  {
   "cell_type": "markdown",
   "id": "de2f3ca6-8f50-45ba-b6fa-c0f837c7be98",
   "metadata": {},
   "source": [
    "I will import the `BeautifulSoup` library so I can easily read the html structure"
   ]
  },
  {
   "cell_type": "code",
   "execution_count": 22,
   "id": "58eca7dd-56e2-4eda-b7b3-60ac9b22b099",
   "metadata": {},
   "outputs": [],
   "source": [
    "from bs4 import BeautifulSoup as bs"
   ]
  },
  {
   "cell_type": "code",
   "execution_count": 23,
   "id": "e93db8c1-4f8b-4a7a-b256-3bd254137502",
   "metadata": {},
   "outputs": [],
   "source": [
    "columns = ['match_api_id','goal', 'shoton', 'shotoff', 'foulcommit', 'card', 'cross', 'corner', 'possession']"
   ]
  },
  {
   "cell_type": "markdown",
   "id": "29612152-8430-4e5f-85ae-a8d1a3ac2d3a",
   "metadata": {},
   "source": [
    " "
   ]
  },
  {
   "cell_type": "markdown",
   "id": "9fc9a09d-1782-4dfa-98df-a7de36b19e02",
   "metadata": {},
   "source": [
    "The cell below selects only the rows that are not `null` or `None`"
   ]
  },
  {
   "cell_type": "code",
   "execution_count": 24,
   "id": "8688b3c1-9736-435e-92ff-f61f9d897d51",
   "metadata": {},
   "outputs": [],
   "source": [
    "html_format_matches_data = matches[columns][np.invert(matches[columns].isnull().any(axis=1))]"
   ]
  },
  {
   "cell_type": "markdown",
   "id": "707e01dd-28c8-424c-9b24-aab66a0a84e8",
   "metadata": {},
   "source": [
    " "
   ]
  },
  {
   "cell_type": "markdown",
   "id": "c6254862-ef28-4492-800f-735867a7d682",
   "metadata": {},
   "source": [
    "The functions below extracts information from the xml in columns and creates a new data frame of that column.\n",
    "\n",
    "The new data frame will have the match id and desired clean data"
   ]
  },
  {
   "cell_type": "code",
   "execution_count": 25,
   "id": "9498e235-ef73-4340-80fd-557021d142cf",
   "metadata": {},
   "outputs": [],
   "source": [
    "def clean_html(dataframe, column_name):\n",
    "    dataframe_subset = dataframe[['match_api_id',f'{column_name}']]\n",
    "    \n",
    "    if column_name=='goal':\n",
    "        find = 'goals'\n",
    "        \n",
    "    elif column_name=='shoton':\n",
    "        find = 'shoton'\n",
    "        \n",
    "    elif column_name=='shotoff':\n",
    "        find = 'shotoff'\n",
    "        \n",
    "    elif column_name=='foulcommit':\n",
    "        find = 'foulscommitted'\n",
    "        \n",
    "    elif column_name=='cross':\n",
    "        find = 'crosses'\n",
    "        \n",
    "    elif column_name=='corner':\n",
    "        find = 'corners'\n",
    "        \n",
    "    else:\n",
    "        find='ycards'\n",
    "   \n",
    "    \n",
    "    clean_arr = []\n",
    "    for match_id, dirty_column in dataframe_subset.values:\n",
    "        bs_content = bs(dirty_column, 'html.parser')\n",
    "        \n",
    "        for xml in bs_content.find_all('value'):\n",
    "            try:\n",
    "                player_id = xml.find('player1').get_text()\n",
    "                team_id = xml.find('team').get_text()\n",
    "                data = xml.find(find).get_text()\n",
    "            except Exception:\n",
    "                continue\n",
    "            clean_arr.append([match_id, player_id, team_id, data])\n",
    "            \n",
    "    return pd.DataFrame(\n",
    "        np.array(clean_arr), \n",
    "        columns=['match_api_id',f'player_api_id_{column_name}',f'team_api_id_{column_name}',f'{column_name}']\n",
    "    )"
   ]
  },
  {
   "cell_type": "code",
   "execution_count": 26,
   "id": "524109ab-7535-46fa-b6cb-49f1aabc5a57",
   "metadata": {},
   "outputs": [],
   "source": [
    "def get_possession(dataframe):\n",
    "    \n",
    "    dataframe_subset = dataframe[['match_api_id','possession']]\n",
    "\n",
    "    clean_arr = []\n",
    "    for match_id, dirty_column in dataframe_subset.values:\n",
    "        bs_content = bs(dirty_column, 'html.parser')\n",
    "        \n",
    "        for xml in bs_content.find_all('value'):\n",
    "            try:\n",
    "                away_pos = xml.find('awaypos').get_text()\n",
    "                home_pos = xml.find('homepos').get_text()\n",
    "            except Exception:\n",
    "                continue\n",
    "            clean_arr.append([match_id, home_pos, away_pos])\n",
    "            \n",
    "    return pd.DataFrame(\n",
    "        np.array(clean_arr), \n",
    "        columns=['match_api_id','home_possession','away_possession']\n",
    "    )"
   ]
  },
  {
   "cell_type": "markdown",
   "id": "78a3a112-82df-4e8d-94f3-4a9d917ea0d9",
   "metadata": {},
   "source": [
    " "
   ]
  },
  {
   "cell_type": "markdown",
   "id": "99bb7fb7-423a-45cb-93b1-0bccd7767664",
   "metadata": {},
   "source": [
    "The below cells are extracting the data from the xml format.\n",
    "<br>\n",
    "The `clean_html` function extracts the matchID,playerID, teamID and the desired data then it produces and `:pandas: DataFrame` \n",
    "<br>\n",
    "The data from these dataframes can easily be analysed and or joined together"
   ]
  },
  {
   "cell_type": "code",
   "execution_count": 27,
   "id": "67837ab1-3488-4368-9254-d1cf2cb5cdb1",
   "metadata": {},
   "outputs": [],
   "source": [
    "goals_df = clean_html(html_format_matches_data, 'goal')"
   ]
  },
  {
   "cell_type": "code",
   "execution_count": 28,
   "id": "c381c6f4-776c-4848-8471-e5f79ad07cca",
   "metadata": {},
   "outputs": [],
   "source": [
    "shoton_df = clean_html(html_format_matches_data, 'shoton')"
   ]
  },
  {
   "cell_type": "code",
   "execution_count": 29,
   "id": "ff0bbb3a-e003-4a50-acb7-1b1b3b12436e",
   "metadata": {},
   "outputs": [],
   "source": [
    "shotoff_df = clean_html(html_format_matches_data, 'shotoff')"
   ]
  },
  {
   "cell_type": "code",
   "execution_count": 30,
   "id": "6cf87498-f41d-4793-b843-d2dc40a10117",
   "metadata": {},
   "outputs": [],
   "source": [
    "foulcommit_df = clean_html(html_format_matches_data, 'foulcommit')"
   ]
  },
  {
   "cell_type": "code",
   "execution_count": 31,
   "id": "23cb3963-b961-45e5-acce-c8fb918109bf",
   "metadata": {},
   "outputs": [],
   "source": [
    "card_df = clean_html(html_format_matches_data, 'card')"
   ]
  },
  {
   "cell_type": "code",
   "execution_count": 32,
   "id": "63032f70-23d5-437b-a1c8-755c7190903d",
   "metadata": {},
   "outputs": [],
   "source": [
    "cross_df = clean_html(html_format_matches_data, 'cross')"
   ]
  },
  {
   "cell_type": "code",
   "execution_count": 33,
   "id": "bbf7d9ec-c609-4dd9-b640-708e98b3222f",
   "metadata": {},
   "outputs": [],
   "source": [
    "corner_df = clean_html(html_format_matches_data, 'corner')"
   ]
  },
  {
   "cell_type": "code",
   "execution_count": 34,
   "id": "87cb9215-1328-469e-8290-8ff873d4a890",
   "metadata": {},
   "outputs": [],
   "source": [
    "possession_df = get_possession(html_format_matches_data)"
   ]
  },
  {
   "cell_type": "markdown",
   "id": "ab0bf81f-d781-4c39-a04a-9f72c315bce5",
   "metadata": {},
   "source": [
    "### **removing duplicates**"
   ]
  },
  {
   "cell_type": "code",
   "execution_count": 35,
   "id": "2824f644-cd33-47f1-afa3-0f316f470b8b",
   "metadata": {},
   "outputs": [
    {
     "data": {
      "text/plain": [
       "3657"
      ]
     },
     "execution_count": 35,
     "metadata": {},
     "output_type": "execute_result"
    }
   ],
   "source": [
    "sum(goals_df.duplicated())"
   ]
  },
  {
   "cell_type": "code",
   "execution_count": 36,
   "id": "ff24c518-b0b4-4cac-9fab-5b86621b6de6",
   "metadata": {},
   "outputs": [],
   "source": [
    "goals_df.drop_duplicates(inplace=True)"
   ]
  },
  {
   "cell_type": "code",
   "execution_count": 37,
   "id": "10acd93b-603d-4328-86e9-8187a5d12315",
   "metadata": {},
   "outputs": [],
   "source": [
    "goals_df = goals_df.astype(int)"
   ]
  },
  {
   "cell_type": "markdown",
   "id": "fd39508b-5ae4-467e-928b-ebc2e611be0c",
   "metadata": {},
   "source": [
    "#### <center>Shoton</center>"
   ]
  },
  {
   "cell_type": "code",
   "execution_count": 38,
   "id": "a9961337-33d6-4d69-9494-24bb648f6c2e",
   "metadata": {},
   "outputs": [
    {
     "name": "stdout",
     "output_type": "stream",
     "text": [
      "<class 'pandas.core.frame.DataFrame'>\n",
      "RangeIndex: 56659 entries, 0 to 56658\n",
      "Data columns (total 4 columns):\n",
      " #   Column                Non-Null Count  Dtype \n",
      "---  ------                --------------  ----- \n",
      " 0   match_api_id          56659 non-null  object\n",
      " 1   player_api_id_shoton  56659 non-null  object\n",
      " 2   team_api_id_shoton    56659 non-null  object\n",
      " 3   shoton                56659 non-null  object\n",
      "dtypes: object(4)\n",
      "memory usage: 1.7+ MB\n"
     ]
    }
   ],
   "source": [
    "shoton_df.info()"
   ]
  },
  {
   "cell_type": "code",
   "execution_count": 39,
   "id": "a28884f2-ad62-418a-aba7-563ebf23c500",
   "metadata": {},
   "outputs": [
    {
     "data": {
      "text/plain": [
       "12121"
      ]
     },
     "execution_count": 39,
     "metadata": {},
     "output_type": "execute_result"
    }
   ],
   "source": [
    "sum(shoton_df.duplicated())"
   ]
  },
  {
   "cell_type": "code",
   "execution_count": 40,
   "id": "fc93c2b9-bf27-44f7-82a2-a8efb6c7dc0a",
   "metadata": {},
   "outputs": [],
   "source": [
    "shoton_df.drop_duplicates(inplace=True)"
   ]
  },
  {
   "cell_type": "code",
   "execution_count": 41,
   "id": "ff4cf309-dcbc-4aae-91f1-fe72c95a8f93",
   "metadata": {},
   "outputs": [
    {
     "data": {
      "text/plain": [
       "0"
      ]
     },
     "execution_count": 41,
     "metadata": {},
     "output_type": "execute_result"
    }
   ],
   "source": [
    "sum(shoton_df.duplicated())"
   ]
  },
  {
   "cell_type": "code",
   "execution_count": 42,
   "id": "64bd3775-032f-4b38-ac90-afc634418c3a",
   "metadata": {},
   "outputs": [],
   "source": [
    "shoton_df = shoton_df.astype(int)"
   ]
  },
  {
   "cell_type": "code",
   "execution_count": 43,
   "id": "e90a8660-34e7-41a4-9947-38d48311b66d",
   "metadata": {},
   "outputs": [
    {
     "name": "stdout",
     "output_type": "stream",
     "text": [
      "<class 'pandas.core.frame.DataFrame'>\n",
      "Int64Index: 44538 entries, 0 to 56658\n",
      "Data columns (total 4 columns):\n",
      " #   Column                Non-Null Count  Dtype\n",
      "---  ------                --------------  -----\n",
      " 0   match_api_id          44538 non-null  int64\n",
      " 1   player_api_id_shoton  44538 non-null  int64\n",
      " 2   team_api_id_shoton    44538 non-null  int64\n",
      " 3   shoton                44538 non-null  int64\n",
      "dtypes: int64(4)\n",
      "memory usage: 1.7 MB\n"
     ]
    }
   ],
   "source": [
    "shoton_df.info()"
   ]
  },
  {
   "cell_type": "markdown",
   "id": "3546e6dd-cb79-418a-90d5-3dfdc4645392",
   "metadata": {},
   "source": [
    "#### <center>Shotoff</center>"
   ]
  },
  {
   "cell_type": "code",
   "execution_count": 44,
   "id": "d484865c-eb42-46a8-91c3-74121f5c40b1",
   "metadata": {},
   "outputs": [
    {
     "name": "stdout",
     "output_type": "stream",
     "text": [
      "<class 'pandas.core.frame.DataFrame'>\n",
      "RangeIndex: 92944 entries, 0 to 92943\n",
      "Data columns (total 4 columns):\n",
      " #   Column                 Non-Null Count  Dtype \n",
      "---  ------                 --------------  ----- \n",
      " 0   match_api_id           92944 non-null  object\n",
      " 1   player_api_id_shotoff  92944 non-null  object\n",
      " 2   team_api_id_shotoff    92944 non-null  object\n",
      " 3   shotoff                92944 non-null  object\n",
      "dtypes: object(4)\n",
      "memory usage: 2.8+ MB\n"
     ]
    }
   ],
   "source": [
    "shotoff_df.info()"
   ]
  },
  {
   "cell_type": "code",
   "execution_count": 45,
   "id": "4df90452-29db-4594-a538-aef6f83a123a",
   "metadata": {},
   "outputs": [
    {
     "data": {
      "text/plain": [
       "25593"
      ]
     },
     "execution_count": 45,
     "metadata": {},
     "output_type": "execute_result"
    }
   ],
   "source": [
    "sum(shotoff_df.duplicated())"
   ]
  },
  {
   "cell_type": "code",
   "execution_count": 46,
   "id": "0697b8cd-de9d-45b1-a3f6-45c8ec329cff",
   "metadata": {},
   "outputs": [],
   "source": [
    "shotoff_df.drop_duplicates(inplace=True)"
   ]
  },
  {
   "cell_type": "code",
   "execution_count": 47,
   "id": "b4912828-1d64-4c77-9c26-a82676e77fd6",
   "metadata": {},
   "outputs": [
    {
     "name": "stdout",
     "output_type": "stream",
     "text": [
      "<class 'pandas.core.frame.DataFrame'>\n",
      "Int64Index: 67351 entries, 0 to 92943\n",
      "Data columns (total 4 columns):\n",
      " #   Column                 Non-Null Count  Dtype \n",
      "---  ------                 --------------  ----- \n",
      " 0   match_api_id           67351 non-null  object\n",
      " 1   player_api_id_shotoff  67351 non-null  object\n",
      " 2   team_api_id_shotoff    67351 non-null  object\n",
      " 3   shotoff                67351 non-null  object\n",
      "dtypes: object(4)\n",
      "memory usage: 2.6+ MB\n"
     ]
    }
   ],
   "source": [
    "shotoff_df.info()"
   ]
  },
  {
   "cell_type": "code",
   "execution_count": 48,
   "id": "e7587e8e-53d8-48be-9d5d-078ccf32cf0f",
   "metadata": {},
   "outputs": [],
   "source": [
    "shotoff_df = shotoff_df.astype(int)"
   ]
  },
  {
   "cell_type": "code",
   "execution_count": 49,
   "id": "a71b6b17-f07f-4261-80a5-b86835d2fdc4",
   "metadata": {},
   "outputs": [
    {
     "name": "stdout",
     "output_type": "stream",
     "text": [
      "<class 'pandas.core.frame.DataFrame'>\n",
      "Int64Index: 67351 entries, 0 to 92943\n",
      "Data columns (total 4 columns):\n",
      " #   Column                 Non-Null Count  Dtype\n",
      "---  ------                 --------------  -----\n",
      " 0   match_api_id           67351 non-null  int64\n",
      " 1   player_api_id_shotoff  67351 non-null  int64\n",
      " 2   team_api_id_shotoff    67351 non-null  int64\n",
      " 3   shotoff                67351 non-null  int64\n",
      "dtypes: int64(4)\n",
      "memory usage: 2.6 MB\n"
     ]
    }
   ],
   "source": [
    "shotoff_df.info()"
   ]
  },
  {
   "cell_type": "markdown",
   "id": "6111044e-29bf-4a36-ad39-b2ddd119d60e",
   "metadata": {},
   "source": [
    "#### <center>Foulcommit</center>"
   ]
  },
  {
   "cell_type": "code",
   "execution_count": 50,
   "id": "e4521c77-55f8-47cd-af87-78a740d50338",
   "metadata": {},
   "outputs": [
    {
     "name": "stdout",
     "output_type": "stream",
     "text": [
      "<class 'pandas.core.frame.DataFrame'>\n",
      "RangeIndex: 210144 entries, 0 to 210143\n",
      "Data columns (total 4 columns):\n",
      " #   Column                    Non-Null Count   Dtype \n",
      "---  ------                    --------------   ----- \n",
      " 0   match_api_id              210144 non-null  object\n",
      " 1   player_api_id_foulcommit  210144 non-null  object\n",
      " 2   team_api_id_foulcommit    210144 non-null  object\n",
      " 3   foulcommit                210144 non-null  object\n",
      "dtypes: object(4)\n",
      "memory usage: 6.4+ MB\n"
     ]
    }
   ],
   "source": [
    "foulcommit_df.info()"
   ]
  },
  {
   "cell_type": "code",
   "execution_count": 51,
   "id": "dd7c20a1-05fd-4bea-8ad9-9fa3a90cf6a2",
   "metadata": {},
   "outputs": [
    {
     "data": {
      "text/plain": [
       "87227"
      ]
     },
     "execution_count": 51,
     "metadata": {},
     "output_type": "execute_result"
    }
   ],
   "source": [
    "sum(foulcommit_df.duplicated())"
   ]
  },
  {
   "cell_type": "code",
   "execution_count": 52,
   "id": "63a2e34b-561f-44ed-ad4c-f4ba1c8a1251",
   "metadata": {},
   "outputs": [],
   "source": [
    "foulcommit_df.drop_duplicates(inplace=True)"
   ]
  },
  {
   "cell_type": "code",
   "execution_count": 53,
   "id": "a21d9aff-8fd6-47ca-922e-02122dab328a",
   "metadata": {},
   "outputs": [
    {
     "name": "stdout",
     "output_type": "stream",
     "text": [
      "<class 'pandas.core.frame.DataFrame'>\n",
      "Int64Index: 122917 entries, 0 to 210141\n",
      "Data columns (total 4 columns):\n",
      " #   Column                    Non-Null Count   Dtype \n",
      "---  ------                    --------------   ----- \n",
      " 0   match_api_id              122917 non-null  object\n",
      " 1   player_api_id_foulcommit  122917 non-null  object\n",
      " 2   team_api_id_foulcommit    122917 non-null  object\n",
      " 3   foulcommit                122917 non-null  object\n",
      "dtypes: object(4)\n",
      "memory usage: 4.7+ MB\n"
     ]
    }
   ],
   "source": [
    "foulcommit_df.info()"
   ]
  },
  {
   "cell_type": "code",
   "execution_count": 54,
   "id": "3be2cb51-7515-439c-992b-5e80250dc9f5",
   "metadata": {},
   "outputs": [
    {
     "data": {
      "text/html": [
       "<div>\n",
       "<style scoped>\n",
       "    .dataframe tbody tr th:only-of-type {\n",
       "        vertical-align: middle;\n",
       "    }\n",
       "\n",
       "    .dataframe tbody tr th {\n",
       "        vertical-align: top;\n",
       "    }\n",
       "\n",
       "    .dataframe thead th {\n",
       "        text-align: right;\n",
       "    }\n",
       "</style>\n",
       "<table border=\"1\" class=\"dataframe\">\n",
       "  <thead>\n",
       "    <tr style=\"text-align: right;\">\n",
       "      <th></th>\n",
       "      <th>match_api_id</th>\n",
       "      <th>player_api_id_foulcommit</th>\n",
       "      <th>team_api_id_foulcommit</th>\n",
       "      <th>foulcommit</th>\n",
       "    </tr>\n",
       "  </thead>\n",
       "  <tbody>\n",
       "    <tr>\n",
       "      <th>0</th>\n",
       "      <td>489042</td>\n",
       "      <td>25518</td>\n",
       "      <td>10261</td>\n",
       "      <td>1</td>\n",
       "    </tr>\n",
       "    <tr>\n",
       "      <th>1</th>\n",
       "      <td>489042</td>\n",
       "      <td>30929</td>\n",
       "      <td>10261</td>\n",
       "      <td>1</td>\n",
       "    </tr>\n",
       "    <tr>\n",
       "      <th>2</th>\n",
       "      <td>489042</td>\n",
       "      <td>29581</td>\n",
       "      <td>10261</td>\n",
       "      <td>1</td>\n",
       "    </tr>\n",
       "    <tr>\n",
       "      <th>3</th>\n",
       "      <td>489042</td>\n",
       "      <td>30373</td>\n",
       "      <td>10260</td>\n",
       "      <td>1</td>\n",
       "    </tr>\n",
       "    <tr>\n",
       "      <th>5</th>\n",
       "      <td>489042</td>\n",
       "      <td>24157</td>\n",
       "      <td>10260</td>\n",
       "      <td>1</td>\n",
       "    </tr>\n",
       "  </tbody>\n",
       "</table>\n",
       "</div>"
      ],
      "text/plain": [
       "  match_api_id player_api_id_foulcommit team_api_id_foulcommit foulcommit\n",
       "0       489042                    25518                  10261          1\n",
       "1       489042                    30929                  10261          1\n",
       "2       489042                    29581                  10261          1\n",
       "3       489042                    30373                  10260          1\n",
       "5       489042                    24157                  10260          1"
      ]
     },
     "execution_count": 54,
     "metadata": {},
     "output_type": "execute_result"
    }
   ],
   "source": [
    "foulcommit_df.head()"
   ]
  },
  {
   "cell_type": "markdown",
   "id": "9973245e-1c33-4dfd-aa9c-8ad6cf85ce76",
   "metadata": {},
   "source": [
    " "
   ]
  },
  {
   "cell_type": "code",
   "execution_count": 55,
   "id": "47bee9f5-53ea-4cd5-b134-55dd6c8fbf35",
   "metadata": {},
   "outputs": [
    {
     "data": {
      "text/html": [
       "<div>\n",
       "<style scoped>\n",
       "    .dataframe tbody tr th:only-of-type {\n",
       "        vertical-align: middle;\n",
       "    }\n",
       "\n",
       "    .dataframe tbody tr th {\n",
       "        vertical-align: top;\n",
       "    }\n",
       "\n",
       "    .dataframe thead th {\n",
       "        text-align: right;\n",
       "    }\n",
       "</style>\n",
       "<table border=\"1\" class=\"dataframe\">\n",
       "  <thead>\n",
       "    <tr style=\"text-align: right;\">\n",
       "      <th></th>\n",
       "      <th>match_api_id</th>\n",
       "      <th>player_api_id_foulcommit</th>\n",
       "      <th>team_api_id_foulcommit</th>\n",
       "      <th>foulcommit</th>\n",
       "    </tr>\n",
       "  </thead>\n",
       "  <tbody>\n",
       "    <tr>\n",
       "      <th>121755</th>\n",
       "      <td>704611</td>\n",
       "      <td>Unknown player</td>\n",
       "      <td>9875</td>\n",
       "      <td>1</td>\n",
       "    </tr>\n",
       "  </tbody>\n",
       "</table>\n",
       "</div>"
      ],
      "text/plain": [
       "       match_api_id player_api_id_foulcommit team_api_id_foulcommit foulcommit\n",
       "121755       704611           Unknown player                   9875          1"
      ]
     },
     "execution_count": 55,
     "metadata": {},
     "output_type": "execute_result"
    }
   ],
   "source": [
    "foulcommit_df[foulcommit_df.player_api_id_foulcommit=='Unknown player']"
   ]
  },
  {
   "cell_type": "code",
   "execution_count": 56,
   "id": "06bc6401-919e-4542-b3c9-d388e2a9d4f4",
   "metadata": {},
   "outputs": [],
   "source": [
    "foulcommit_df.drop(index=121755, inplace=True)"
   ]
  },
  {
   "cell_type": "markdown",
   "id": "2ca81ce0-e0c3-4037-b0b4-02f0665d43b8",
   "metadata": {},
   "source": [
    "The cell above drops a row with an Unknown player\n",
    "<br>\n",
    "I discovered this cell when I got an error trying to convert the dataframe datatypes to `int` types\n",
    "<br>\n",
    "I first determine the index of where the row witht the `'Unknown player'` is"
   ]
  },
  {
   "cell_type": "markdown",
   "id": "c5514ffc-b2fd-4c22-83f2-0bc317b579d3",
   "metadata": {},
   "source": [
    " "
   ]
  },
  {
   "cell_type": "code",
   "execution_count": 57,
   "id": "ddd35dc7-fe39-4d41-bb4b-694d9402f9dd",
   "metadata": {
    "tags": []
   },
   "outputs": [],
   "source": [
    "foulcommit_df = foulcommit_df.astype(int)"
   ]
  },
  {
   "cell_type": "code",
   "execution_count": 58,
   "id": "0bb6433d-223d-47d6-8a0e-16c3d2a16b29",
   "metadata": {},
   "outputs": [
    {
     "name": "stdout",
     "output_type": "stream",
     "text": [
      "<class 'pandas.core.frame.DataFrame'>\n",
      "Int64Index: 122916 entries, 0 to 210141\n",
      "Data columns (total 4 columns):\n",
      " #   Column                    Non-Null Count   Dtype\n",
      "---  ------                    --------------   -----\n",
      " 0   match_api_id              122916 non-null  int64\n",
      " 1   player_api_id_foulcommit  122916 non-null  int64\n",
      " 2   team_api_id_foulcommit    122916 non-null  int64\n",
      " 3   foulcommit                122916 non-null  int64\n",
      "dtypes: int64(4)\n",
      "memory usage: 4.7 MB\n"
     ]
    }
   ],
   "source": [
    "foulcommit_df.info()"
   ]
  },
  {
   "cell_type": "markdown",
   "id": "a8e62662-ee99-4c08-aced-7c5f91579efa",
   "metadata": {},
   "source": [
    "#### <center>Card</center>"
   ]
  },
  {
   "cell_type": "code",
   "execution_count": 59,
   "id": "61719421-04ee-4924-9269-3d822d3010cb",
   "metadata": {},
   "outputs": [
    {
     "name": "stdout",
     "output_type": "stream",
     "text": [
      "<class 'pandas.core.frame.DataFrame'>\n",
      "RangeIndex: 58045 entries, 0 to 58044\n",
      "Data columns (total 4 columns):\n",
      " #   Column              Non-Null Count  Dtype \n",
      "---  ------              --------------  ----- \n",
      " 0   match_api_id        58045 non-null  object\n",
      " 1   player_api_id_card  58045 non-null  object\n",
      " 2   team_api_id_card    58045 non-null  object\n",
      " 3   card                58045 non-null  object\n",
      "dtypes: object(4)\n",
      "memory usage: 1.8+ MB\n"
     ]
    }
   ],
   "source": [
    "card_df.info()"
   ]
  },
  {
   "cell_type": "code",
   "execution_count": 60,
   "id": "a9a6cd31-9a81-43a0-ac8a-076001908a9d",
   "metadata": {},
   "outputs": [
    {
     "data": {
      "text/plain": [
       "9"
      ]
     },
     "execution_count": 60,
     "metadata": {},
     "output_type": "execute_result"
    }
   ],
   "source": [
    "sum(card_df.duplicated())"
   ]
  },
  {
   "cell_type": "code",
   "execution_count": 61,
   "id": "87d3b719-b9f2-4e5b-af70-21de87b3fe84",
   "metadata": {},
   "outputs": [],
   "source": [
    "card_df.drop_duplicates(inplace=True)"
   ]
  },
  {
   "cell_type": "code",
   "execution_count": 62,
   "id": "b27c614d-2e9c-4bd7-b94f-0b5b79066248",
   "metadata": {},
   "outputs": [
    {
     "data": {
      "text/plain": [
       "0"
      ]
     },
     "execution_count": 62,
     "metadata": {},
     "output_type": "execute_result"
    }
   ],
   "source": [
    "sum(card_df.duplicated())"
   ]
  },
  {
   "cell_type": "code",
   "execution_count": 63,
   "id": "85d83ac5-d074-43bf-b838-a462f1171da6",
   "metadata": {},
   "outputs": [
    {
     "data": {
      "text/html": [
       "<div>\n",
       "<style scoped>\n",
       "    .dataframe tbody tr th:only-of-type {\n",
       "        vertical-align: middle;\n",
       "    }\n",
       "\n",
       "    .dataframe tbody tr th {\n",
       "        vertical-align: top;\n",
       "    }\n",
       "\n",
       "    .dataframe thead th {\n",
       "        text-align: right;\n",
       "    }\n",
       "</style>\n",
       "<table border=\"1\" class=\"dataframe\">\n",
       "  <thead>\n",
       "    <tr style=\"text-align: right;\">\n",
       "      <th></th>\n",
       "      <th>match_api_id</th>\n",
       "      <th>player_api_id_card</th>\n",
       "      <th>team_api_id_card</th>\n",
       "      <th>card</th>\n",
       "    </tr>\n",
       "  </thead>\n",
       "  <tbody>\n",
       "    <tr>\n",
       "      <th>32359</th>\n",
       "      <td>1287076</td>\n",
       "      <td>Unknown player</td>\n",
       "      <td>8551</td>\n",
       "      <td>1</td>\n",
       "    </tr>\n",
       "    <tr>\n",
       "      <th>33796</th>\n",
       "      <td>1287001</td>\n",
       "      <td>Unknown player</td>\n",
       "      <td>8551</td>\n",
       "      <td>1</td>\n",
       "    </tr>\n",
       "    <tr>\n",
       "      <th>33896</th>\n",
       "      <td>1287022</td>\n",
       "      <td>Unknown player</td>\n",
       "      <td>8551</td>\n",
       "      <td>1</td>\n",
       "    </tr>\n",
       "  </tbody>\n",
       "</table>\n",
       "</div>"
      ],
      "text/plain": [
       "      match_api_id player_api_id_card team_api_id_card card\n",
       "32359      1287076     Unknown player             8551    1\n",
       "33796      1287001     Unknown player             8551    1\n",
       "33896      1287022     Unknown player             8551    1"
      ]
     },
     "execution_count": 63,
     "metadata": {},
     "output_type": "execute_result"
    }
   ],
   "source": [
    "card_df[card_df.player_api_id_card=='Unknown player']"
   ]
  },
  {
   "cell_type": "code",
   "execution_count": 64,
   "id": "33edeab6-daa6-4cbd-9800-8cd86192bc64",
   "metadata": {},
   "outputs": [],
   "source": [
    "card_df.drop(index=[32359,33796,33896], inplace=True)"
   ]
  },
  {
   "cell_type": "markdown",
   "id": "ae4823b3-ed33-4a2f-885c-2e182538efb8",
   "metadata": {},
   "source": [
    "The cell above drops a row with an Unknown player\n",
    "<br>\n",
    "I discovered this cell when I got an error trying to convert the dataframe datatypes to `int` types\n",
    "<br>\n",
    "I first determine the index of where the row witht the `'Unknown player'` is"
   ]
  },
  {
   "cell_type": "markdown",
   "id": "e47b9d2b-26b9-4b37-854b-8cca170668b8",
   "metadata": {},
   "source": [
    " "
   ]
  },
  {
   "cell_type": "code",
   "execution_count": 65,
   "id": "438bbaa4-df7d-497f-b217-69438d3de1ff",
   "metadata": {},
   "outputs": [],
   "source": [
    "card_df = card_df.astype(int)"
   ]
  },
  {
   "cell_type": "code",
   "execution_count": 66,
   "id": "fd24ce84-9cfd-4d6d-bb13-3c50b01ae3cb",
   "metadata": {},
   "outputs": [
    {
     "name": "stdout",
     "output_type": "stream",
     "text": [
      "<class 'pandas.core.frame.DataFrame'>\n",
      "Int64Index: 58033 entries, 0 to 58044\n",
      "Data columns (total 4 columns):\n",
      " #   Column              Non-Null Count  Dtype\n",
      "---  ------              --------------  -----\n",
      " 0   match_api_id        58033 non-null  int64\n",
      " 1   player_api_id_card  58033 non-null  int64\n",
      " 2   team_api_id_card    58033 non-null  int64\n",
      " 3   card                58033 non-null  int64\n",
      "dtypes: int64(4)\n",
      "memory usage: 2.2 MB\n"
     ]
    }
   ],
   "source": [
    "card_df.info()"
   ]
  },
  {
   "cell_type": "markdown",
   "id": "d7f41e00-6d01-4df0-9598-b012eecf5e9a",
   "metadata": {},
   "source": [
    "#### <center>Cross</center>"
   ]
  },
  {
   "cell_type": "code",
   "execution_count": 67,
   "id": "3e96ec73-197d-4fd7-a742-45badd38414f",
   "metadata": {},
   "outputs": [
    {
     "name": "stdout",
     "output_type": "stream",
     "text": [
      "<class 'pandas.core.frame.DataFrame'>\n",
      "RangeIndex: 231104 entries, 0 to 231103\n",
      "Data columns (total 4 columns):\n",
      " #   Column               Non-Null Count   Dtype \n",
      "---  ------               --------------   ----- \n",
      " 0   match_api_id         231104 non-null  object\n",
      " 1   player_api_id_cross  231104 non-null  object\n",
      " 2   team_api_id_cross    231104 non-null  object\n",
      " 3   cross                231104 non-null  object\n",
      "dtypes: object(4)\n",
      "memory usage: 7.1+ MB\n"
     ]
    }
   ],
   "source": [
    "cross_df.info()"
   ]
  },
  {
   "cell_type": "code",
   "execution_count": 68,
   "id": "1f11dc44-f416-441f-af0b-482267e2cadc",
   "metadata": {},
   "outputs": [
    {
     "data": {
      "text/plain": [
       "130996"
      ]
     },
     "execution_count": 68,
     "metadata": {},
     "output_type": "execute_result"
    }
   ],
   "source": [
    "sum(cross_df.duplicated())"
   ]
  },
  {
   "cell_type": "code",
   "execution_count": 69,
   "id": "57959e1c-fb8c-4b6b-b405-d8f015fd5b06",
   "metadata": {},
   "outputs": [],
   "source": [
    "cross_df.drop_duplicates(inplace=True)"
   ]
  },
  {
   "cell_type": "code",
   "execution_count": 70,
   "id": "7781b02f-e386-496c-8af4-a91b13f7fe8f",
   "metadata": {},
   "outputs": [
    {
     "data": {
      "text/plain": [
       "0"
      ]
     },
     "execution_count": 70,
     "metadata": {},
     "output_type": "execute_result"
    }
   ],
   "source": [
    "sum(cross_df.duplicated())"
   ]
  },
  {
   "cell_type": "code",
   "execution_count": 71,
   "id": "76c6dd0f-4e47-4d8e-9d87-7eaf6dd65185",
   "metadata": {},
   "outputs": [
    {
     "name": "stdout",
     "output_type": "stream",
     "text": [
      "<class 'pandas.core.frame.DataFrame'>\n",
      "Int64Index: 100108 entries, 0 to 231100\n",
      "Data columns (total 4 columns):\n",
      " #   Column               Non-Null Count   Dtype \n",
      "---  ------               --------------   ----- \n",
      " 0   match_api_id         100108 non-null  object\n",
      " 1   player_api_id_cross  100108 non-null  object\n",
      " 2   team_api_id_cross    100108 non-null  object\n",
      " 3   cross                100108 non-null  object\n",
      "dtypes: object(4)\n",
      "memory usage: 3.8+ MB\n"
     ]
    }
   ],
   "source": [
    "cross_df.info()"
   ]
  },
  {
   "cell_type": "code",
   "execution_count": 72,
   "id": "adb64f59-87c3-40eb-b639-2410865c62f8",
   "metadata": {},
   "outputs": [],
   "source": [
    "cross_df = cross_df.astype(int)"
   ]
  },
  {
   "cell_type": "code",
   "execution_count": 73,
   "id": "35d2a7b0-55d4-4931-95a9-1f087941112b",
   "metadata": {},
   "outputs": [
    {
     "name": "stdout",
     "output_type": "stream",
     "text": [
      "<class 'pandas.core.frame.DataFrame'>\n",
      "Int64Index: 100108 entries, 0 to 231100\n",
      "Data columns (total 4 columns):\n",
      " #   Column               Non-Null Count   Dtype\n",
      "---  ------               --------------   -----\n",
      " 0   match_api_id         100108 non-null  int64\n",
      " 1   player_api_id_cross  100108 non-null  int64\n",
      " 2   team_api_id_cross    100108 non-null  int64\n",
      " 3   cross                100108 non-null  int64\n",
      "dtypes: int64(4)\n",
      "memory usage: 3.8 MB\n"
     ]
    }
   ],
   "source": [
    "cross_df.info()"
   ]
  },
  {
   "cell_type": "markdown",
   "id": "620a981f-c4dd-4366-9887-29a44e6700fc",
   "metadata": {},
   "source": [
    "#### <center>Corner</center>"
   ]
  },
  {
   "cell_type": "code",
   "execution_count": 74,
   "id": "d5f00944-9d2b-49f3-8cbc-e37ec11557ff",
   "metadata": {},
   "outputs": [
    {
     "name": "stdout",
     "output_type": "stream",
     "text": [
      "<class 'pandas.core.frame.DataFrame'>\n",
      "RangeIndex: 85376 entries, 0 to 85375\n",
      "Data columns (total 4 columns):\n",
      " #   Column                Non-Null Count  Dtype \n",
      "---  ------                --------------  ----- \n",
      " 0   match_api_id          85376 non-null  object\n",
      " 1   player_api_id_corner  85376 non-null  object\n",
      " 2   team_api_id_corner    85376 non-null  object\n",
      " 3   corner                85376 non-null  object\n",
      "dtypes: object(4)\n",
      "memory usage: 2.6+ MB\n"
     ]
    }
   ],
   "source": [
    "corner_df.info()"
   ]
  },
  {
   "cell_type": "code",
   "execution_count": 75,
   "id": "1a932f8a-2355-4799-a4b7-78ffbc2c0bcb",
   "metadata": {},
   "outputs": [
    {
     "data": {
      "text/plain": [
       "52481"
      ]
     },
     "execution_count": 75,
     "metadata": {},
     "output_type": "execute_result"
    }
   ],
   "source": [
    "sum(corner_df.duplicated())"
   ]
  },
  {
   "cell_type": "code",
   "execution_count": 76,
   "id": "a4f4ad1e-dd66-468a-8267-edf148fe43cf",
   "metadata": {},
   "outputs": [],
   "source": [
    "corner_df.drop_duplicates(inplace=True)"
   ]
  },
  {
   "cell_type": "code",
   "execution_count": 77,
   "id": "3a79ace8-91fc-4907-9aa7-8ea89c9c9975",
   "metadata": {},
   "outputs": [
    {
     "data": {
      "text/plain": [
       "0"
      ]
     },
     "execution_count": 77,
     "metadata": {},
     "output_type": "execute_result"
    }
   ],
   "source": [
    "sum(corner_df.duplicated())"
   ]
  },
  {
   "cell_type": "code",
   "execution_count": 78,
   "id": "f893614f-04e4-4455-aea1-366ea56bb236",
   "metadata": {},
   "outputs": [
    {
     "name": "stdout",
     "output_type": "stream",
     "text": [
      "<class 'pandas.core.frame.DataFrame'>\n",
      "Int64Index: 32895 entries, 0 to 85369\n",
      "Data columns (total 4 columns):\n",
      " #   Column                Non-Null Count  Dtype \n",
      "---  ------                --------------  ----- \n",
      " 0   match_api_id          32895 non-null  object\n",
      " 1   player_api_id_corner  32895 non-null  object\n",
      " 2   team_api_id_corner    32895 non-null  object\n",
      " 3   corner                32895 non-null  object\n",
      "dtypes: object(4)\n",
      "memory usage: 1.3+ MB\n"
     ]
    }
   ],
   "source": [
    "corner_df.info()"
   ]
  },
  {
   "cell_type": "code",
   "execution_count": 79,
   "id": "3ad89fa3-661d-4a19-a2e3-3aaac180045c",
   "metadata": {},
   "outputs": [],
   "source": [
    "corner_df = corner_df.astype(int)"
   ]
  },
  {
   "cell_type": "code",
   "execution_count": null,
   "id": "8e90ccd6-e10f-4d32-8db4-14238d5f30ef",
   "metadata": {},
   "outputs": [
    {
     "name": "stdout",
     "output_type": "stream",
     "text": [
      "<class 'pandas.core.frame.DataFrame'>\n",
      "Int64Index: 32895 entries, 0 to 85369\n",
      "Data columns (total 4 columns):\n",
      " #   Column                Non-Null Count  Dtype\n",
      "---  ------                --------------  -----\n",
      " 0   match_api_id          32895 non-null  int64\n",
      " 1   player_api_id_corner  32895 non-null  int64\n",
      " 2   team_api_id_corner    32895 non-null  int64\n",
      " 3   corner                32895 non-null  int64\n",
      "dtypes: int64(4)\n",
      "memory usage: 1.3 MB\n"
     ]
    }
   ],
   "source": [
    "corner_df.info()"
   ]
  },
  {
   "cell_type": "markdown",
   "id": "6d1704d6-0bd3-44a9-9469-3338a008779f",
   "metadata": {},
   "source": [
    "#### <center>Possession</center>"
   ]
  },
  {
   "cell_type": "markdown",
   "id": "f97d431e-f399-4e7d-ad29-2dba78f56958",
   "metadata": {},
   "source": [
    " "
   ]
  },
  {
   "cell_type": "code",
   "execution_count": null,
   "id": "66ad1e13-d698-4898-ae42-d190d1dd5e45",
   "metadata": {},
   "outputs": [
    {
     "name": "stdout",
     "output_type": "stream",
     "text": [
      "<class 'pandas.core.frame.DataFrame'>\n",
      "RangeIndex: 34796 entries, 0 to 34795\n",
      "Data columns (total 3 columns):\n",
      " #   Column           Non-Null Count  Dtype \n",
      "---  ------           --------------  ----- \n",
      " 0   match_api_id     34796 non-null  object\n",
      " 1   home_possession  34796 non-null  object\n",
      " 2   away_possession  34796 non-null  object\n",
      "dtypes: object(3)\n",
      "memory usage: 815.7+ KB\n"
     ]
    }
   ],
   "source": [
    "possession_df.info()"
   ]
  },
  {
   "cell_type": "code",
   "execution_count": null,
   "id": "37cd7809-09d7-4d3b-8a28-a8a862e2bef4",
   "metadata": {},
   "outputs": [
    {
     "data": {
      "text/plain": [
       "4870"
      ]
     },
     "execution_count": 82,
     "metadata": {},
     "output_type": "execute_result"
    }
   ],
   "source": [
    "sum(possession_df.duplicated())"
   ]
  },
  {
   "cell_type": "code",
   "execution_count": null,
   "id": "4ea21c9e-90d3-49e2-bfec-32a7a4fe1ef8",
   "metadata": {},
   "outputs": [],
   "source": [
    "possession_df.drop_duplicates(inplace=True)"
   ]
  },
  {
   "cell_type": "code",
   "execution_count": null,
   "id": "c45a77bb-d5e8-4449-9b9d-621a405b254a",
   "metadata": {},
   "outputs": [
    {
     "name": "stdout",
     "output_type": "stream",
     "text": [
      "<class 'pandas.core.frame.DataFrame'>\n",
      "Int64Index: 29926 entries, 0 to 34795\n",
      "Data columns (total 3 columns):\n",
      " #   Column           Non-Null Count  Dtype \n",
      "---  ------           --------------  ----- \n",
      " 0   match_api_id     29926 non-null  object\n",
      " 1   home_possession  29926 non-null  object\n",
      " 2   away_possession  29926 non-null  object\n",
      "dtypes: object(3)\n",
      "memory usage: 935.2+ KB\n"
     ]
    }
   ],
   "source": [
    "possession_df.info()"
   ]
  },
  {
   "cell_type": "code",
   "execution_count": null,
   "id": "37a77b15-be8b-47f1-860f-08df4d6111d7",
   "metadata": {},
   "outputs": [],
   "source": [
    "possession_df = possession_df.astype(int)"
   ]
  },
  {
   "cell_type": "code",
   "execution_count": null,
   "id": "29e9c7d5-8e3e-4c59-b9c2-1bc17d75de91",
   "metadata": {},
   "outputs": [
    {
     "name": "stdout",
     "output_type": "stream",
     "text": [
      "<class 'pandas.core.frame.DataFrame'>\n",
      "Int64Index: 29926 entries, 0 to 34795\n",
      "Data columns (total 3 columns):\n",
      " #   Column           Non-Null Count  Dtype\n",
      "---  ------           --------------  -----\n",
      " 0   match_api_id     29926 non-null  int64\n",
      " 1   home_possession  29926 non-null  int64\n",
      " 2   away_possession  29926 non-null  int64\n",
      "dtypes: int64(3)\n",
      "memory usage: 935.2 KB\n"
     ]
    }
   ],
   "source": [
    "possession_df.info()"
   ]
  },
  {
   "cell_type": "code",
   "execution_count": null,
   "id": "f9540c01-c178-4ba9-903f-0e5a584244ca",
   "metadata": {},
   "outputs": [
    {
     "data": {
      "text/html": [
       "<div>\n",
       "<style scoped>\n",
       "    .dataframe tbody tr th:only-of-type {\n",
       "        vertical-align: middle;\n",
       "    }\n",
       "\n",
       "    .dataframe tbody tr th {\n",
       "        vertical-align: top;\n",
       "    }\n",
       "\n",
       "    .dataframe thead th {\n",
       "        text-align: right;\n",
       "    }\n",
       "</style>\n",
       "<table border=\"1\" class=\"dataframe\">\n",
       "  <thead>\n",
       "    <tr style=\"text-align: right;\">\n",
       "      <th></th>\n",
       "      <th>match_api_id</th>\n",
       "      <th>home_possession</th>\n",
       "      <th>away_possession</th>\n",
       "    </tr>\n",
       "  </thead>\n",
       "  <tbody>\n",
       "    <tr>\n",
       "      <th>count</th>\n",
       "      <td>2.992600e+04</td>\n",
       "      <td>29926.000000</td>\n",
       "      <td>29926.000000</td>\n",
       "    </tr>\n",
       "    <tr>\n",
       "      <th>mean</th>\n",
       "      <td>1.369415e+06</td>\n",
       "      <td>51.816347</td>\n",
       "      <td>48.183653</td>\n",
       "    </tr>\n",
       "    <tr>\n",
       "      <th>std</th>\n",
       "      <td>5.477462e+05</td>\n",
       "      <td>10.206609</td>\n",
       "      <td>10.206609</td>\n",
       "    </tr>\n",
       "    <tr>\n",
       "      <th>min</th>\n",
       "      <td>4.890420e+05</td>\n",
       "      <td>2.000000</td>\n",
       "      <td>6.000000</td>\n",
       "    </tr>\n",
       "    <tr>\n",
       "      <th>25%</th>\n",
       "      <td>8.572730e+05</td>\n",
       "      <td>45.000000</td>\n",
       "      <td>42.000000</td>\n",
       "    </tr>\n",
       "    <tr>\n",
       "      <th>50%</th>\n",
       "      <td>1.474654e+06</td>\n",
       "      <td>52.000000</td>\n",
       "      <td>48.000000</td>\n",
       "    </tr>\n",
       "    <tr>\n",
       "      <th>75%</th>\n",
       "      <td>1.983420e+06</td>\n",
       "      <td>58.000000</td>\n",
       "      <td>55.000000</td>\n",
       "    </tr>\n",
       "    <tr>\n",
       "      <th>max</th>\n",
       "      <td>2.118418e+06</td>\n",
       "      <td>94.000000</td>\n",
       "      <td>98.000000</td>\n",
       "    </tr>\n",
       "  </tbody>\n",
       "</table>\n",
       "</div>"
      ],
      "text/plain": [
       "       match_api_id  home_possession  away_possession\n",
       "count  2.992600e+04     29926.000000     29926.000000\n",
       "mean   1.369415e+06        51.816347        48.183653\n",
       "std    5.477462e+05        10.206609        10.206609\n",
       "min    4.890420e+05         2.000000         6.000000\n",
       "25%    8.572730e+05        45.000000        42.000000\n",
       "50%    1.474654e+06        52.000000        48.000000\n",
       "75%    1.983420e+06        58.000000        55.000000\n",
       "max    2.118418e+06        94.000000        98.000000"
      ]
     },
     "execution_count": 87,
     "metadata": {},
     "output_type": "execute_result"
    }
   ],
   "source": [
    "possession_df.describe()"
   ]
  },
  {
   "cell_type": "markdown",
   "id": "30bdbc2c-7674-40f2-b05e-30d0d2892caf",
   "metadata": {},
   "source": [
    " "
   ]
  },
  {
   "cell_type": "markdown",
   "id": "18d955e8-25ba-4d82-8621-0463d2d15d5d",
   "metadata": {},
   "source": [
    "I have cleaned and extracted the data from its xml format. Each dataframe I created has columns with extensions that show how or where they were extracted. \n",
    "<br>\n",
    "Example:\n",
    "<br>\n",
    "- The `corner_df` has columns like this `player_api_id_corner, team_api_id_corner`. This shows the specific team and player involved and it makes it easier for future table merges"
   ]
  },
  {
   "cell_type": "markdown",
   "id": "76b86bbe-ecaf-4af3-8500-744a740ad705",
   "metadata": {},
   "source": [
    " "
   ]
  },
  {
   "cell_type": "markdown",
   "id": "74c817d4-ad68-4fa3-a18e-0e61db321e80",
   "metadata": {},
   "source": [
    " "
   ]
  },
  {
   "cell_type": "markdown",
   "id": "ee1e6df7-7f4c-4a7a-a3ae-4dd51d90c6f1",
   "metadata": {},
   "source": [
    "I will drop the columns I have extracted information from the `matches` dataframe"
   ]
  },
  {
   "cell_type": "code",
   "execution_count": null,
   "id": "1f4f0c9b-4cbd-4237-a7ab-a76c855cba24",
   "metadata": {},
   "outputs": [],
   "source": [
    "matches.drop(columns[1:], axis=1, inplace=True)"
   ]
  },
  {
   "cell_type": "markdown",
   "id": "e0291e67-4a38-4b54-b8cf-e9b23af57fb1",
   "metadata": {},
   "source": [
    "### League"
   ]
  },
  {
   "cell_type": "code",
   "execution_count": 91,
   "id": "91453eb4-72b2-4c7c-9b95-fc1d1dab2e61",
   "metadata": {},
   "outputs": [],
   "source": [
    "league = pd.read_sql(f'SELECT * FROM league', conn)"
   ]
  },
  {
   "cell_type": "code",
   "execution_count": 92,
   "id": "9582d653-b3b7-4c72-b240-8c461c61fa05",
   "metadata": {
    "tags": []
   },
   "outputs": [
    {
     "data": {
      "text/html": [
       "<div>\n",
       "<style scoped>\n",
       "    .dataframe tbody tr th:only-of-type {\n",
       "        vertical-align: middle;\n",
       "    }\n",
       "\n",
       "    .dataframe tbody tr th {\n",
       "        vertical-align: top;\n",
       "    }\n",
       "\n",
       "    .dataframe thead th {\n",
       "        text-align: right;\n",
       "    }\n",
       "</style>\n",
       "<table border=\"1\" class=\"dataframe\">\n",
       "  <thead>\n",
       "    <tr style=\"text-align: right;\">\n",
       "      <th></th>\n",
       "      <th>id</th>\n",
       "      <th>country_id</th>\n",
       "      <th>name</th>\n",
       "    </tr>\n",
       "  </thead>\n",
       "  <tbody>\n",
       "    <tr>\n",
       "      <th>0</th>\n",
       "      <td>1</td>\n",
       "      <td>1</td>\n",
       "      <td>Belgium Jupiler League</td>\n",
       "    </tr>\n",
       "    <tr>\n",
       "      <th>1</th>\n",
       "      <td>1729</td>\n",
       "      <td>1729</td>\n",
       "      <td>England Premier League</td>\n",
       "    </tr>\n",
       "    <tr>\n",
       "      <th>2</th>\n",
       "      <td>4769</td>\n",
       "      <td>4769</td>\n",
       "      <td>France Ligue 1</td>\n",
       "    </tr>\n",
       "    <tr>\n",
       "      <th>3</th>\n",
       "      <td>7809</td>\n",
       "      <td>7809</td>\n",
       "      <td>Germany 1. Bundesliga</td>\n",
       "    </tr>\n",
       "    <tr>\n",
       "      <th>4</th>\n",
       "      <td>10257</td>\n",
       "      <td>10257</td>\n",
       "      <td>Italy Serie A</td>\n",
       "    </tr>\n",
       "  </tbody>\n",
       "</table>\n",
       "</div>"
      ],
      "text/plain": [
       "      id  country_id                    name\n",
       "0      1           1  Belgium Jupiler League\n",
       "1   1729        1729  England Premier League\n",
       "2   4769        4769          France Ligue 1\n",
       "3   7809        7809   Germany 1. Bundesliga\n",
       "4  10257       10257           Italy Serie A"
      ]
     },
     "execution_count": 92,
     "metadata": {},
     "output_type": "execute_result"
    }
   ],
   "source": [
    "league.head()"
   ]
  },
  {
   "cell_type": "code",
   "execution_count": 93,
   "id": "bf974d98-44d0-4db4-b81d-15f5dc0a4c5b",
   "metadata": {
    "tags": []
   },
   "outputs": [
    {
     "name": "stdout",
     "output_type": "stream",
     "text": [
      "<class 'pandas.core.frame.DataFrame'>\n",
      "RangeIndex: 11 entries, 0 to 10\n",
      "Data columns (total 3 columns):\n",
      " #   Column      Non-Null Count  Dtype \n",
      "---  ------      --------------  ----- \n",
      " 0   id          11 non-null     int64 \n",
      " 1   country_id  11 non-null     int64 \n",
      " 2   name        11 non-null     object\n",
      "dtypes: int64(2), object(1)\n",
      "memory usage: 392.0+ bytes\n"
     ]
    }
   ],
   "source": [
    "league.info()"
   ]
  },
  {
   "cell_type": "markdown",
   "id": "e0ff8c64-1800-4a89-8945-4e9a0eaa3932",
   "metadata": {},
   "source": [
    "### Countries"
   ]
  },
  {
   "cell_type": "code",
   "execution_count": 94,
   "id": "71972253-ad81-4ce2-8556-4187963d4262",
   "metadata": {},
   "outputs": [],
   "source": [
    "country = pd.read_sql(f'SELECT * FROM country',conn)"
   ]
  },
  {
   "cell_type": "code",
   "execution_count": 95,
   "id": "a22f5e0a-32b6-49fa-bbbd-a96644715134",
   "metadata": {
    "tags": []
   },
   "outputs": [
    {
     "data": {
      "text/html": [
       "<div>\n",
       "<style scoped>\n",
       "    .dataframe tbody tr th:only-of-type {\n",
       "        vertical-align: middle;\n",
       "    }\n",
       "\n",
       "    .dataframe tbody tr th {\n",
       "        vertical-align: top;\n",
       "    }\n",
       "\n",
       "    .dataframe thead th {\n",
       "        text-align: right;\n",
       "    }\n",
       "</style>\n",
       "<table border=\"1\" class=\"dataframe\">\n",
       "  <thead>\n",
       "    <tr style=\"text-align: right;\">\n",
       "      <th></th>\n",
       "      <th>id</th>\n",
       "      <th>name</th>\n",
       "    </tr>\n",
       "  </thead>\n",
       "  <tbody>\n",
       "    <tr>\n",
       "      <th>0</th>\n",
       "      <td>1</td>\n",
       "      <td>Belgium</td>\n",
       "    </tr>\n",
       "    <tr>\n",
       "      <th>1</th>\n",
       "      <td>1729</td>\n",
       "      <td>England</td>\n",
       "    </tr>\n",
       "    <tr>\n",
       "      <th>2</th>\n",
       "      <td>4769</td>\n",
       "      <td>France</td>\n",
       "    </tr>\n",
       "    <tr>\n",
       "      <th>3</th>\n",
       "      <td>7809</td>\n",
       "      <td>Germany</td>\n",
       "    </tr>\n",
       "    <tr>\n",
       "      <th>4</th>\n",
       "      <td>10257</td>\n",
       "      <td>Italy</td>\n",
       "    </tr>\n",
       "  </tbody>\n",
       "</table>\n",
       "</div>"
      ],
      "text/plain": [
       "      id     name\n",
       "0      1  Belgium\n",
       "1   1729  England\n",
       "2   4769   France\n",
       "3   7809  Germany\n",
       "4  10257    Italy"
      ]
     },
     "execution_count": 95,
     "metadata": {},
     "output_type": "execute_result"
    }
   ],
   "source": [
    "country.head()"
   ]
  },
  {
   "cell_type": "code",
   "execution_count": 96,
   "id": "ed3600f7-a76c-4552-8147-51f2ec59b06d",
   "metadata": {
    "tags": []
   },
   "outputs": [
    {
     "name": "stdout",
     "output_type": "stream",
     "text": [
      "<class 'pandas.core.frame.DataFrame'>\n",
      "RangeIndex: 11 entries, 0 to 10\n",
      "Data columns (total 2 columns):\n",
      " #   Column  Non-Null Count  Dtype \n",
      "---  ------  --------------  ----- \n",
      " 0   id      11 non-null     int64 \n",
      " 1   name    11 non-null     object\n",
      "dtypes: int64(1), object(1)\n",
      "memory usage: 304.0+ bytes\n"
     ]
    }
   ],
   "source": [
    "country.info()"
   ]
  },
  {
   "cell_type": "markdown",
   "id": "97575aad-15b8-4cd3-9e8c-8ac86243ee84",
   "metadata": {},
   "source": [
    "### Teams"
   ]
  },
  {
   "cell_type": "code",
   "execution_count": 97,
   "id": "91fcdaf7-e6f6-4aec-a923-4c86ee0adcd7",
   "metadata": {},
   "outputs": [],
   "source": [
    "teams = pd.read_sql(f'SELECT * FROM team', conn)"
   ]
  },
  {
   "cell_type": "code",
   "execution_count": 98,
   "id": "cc791dab-114b-48dd-82b6-be064142721b",
   "metadata": {
    "tags": []
   },
   "outputs": [
    {
     "data": {
      "text/html": [
       "<div>\n",
       "<style scoped>\n",
       "    .dataframe tbody tr th:only-of-type {\n",
       "        vertical-align: middle;\n",
       "    }\n",
       "\n",
       "    .dataframe tbody tr th {\n",
       "        vertical-align: top;\n",
       "    }\n",
       "\n",
       "    .dataframe thead th {\n",
       "        text-align: right;\n",
       "    }\n",
       "</style>\n",
       "<table border=\"1\" class=\"dataframe\">\n",
       "  <thead>\n",
       "    <tr style=\"text-align: right;\">\n",
       "      <th></th>\n",
       "      <th>id</th>\n",
       "      <th>team_api_id</th>\n",
       "      <th>team_fifa_api_id</th>\n",
       "      <th>team_long_name</th>\n",
       "      <th>team_short_name</th>\n",
       "    </tr>\n",
       "  </thead>\n",
       "  <tbody>\n",
       "    <tr>\n",
       "      <th>0</th>\n",
       "      <td>1</td>\n",
       "      <td>9987</td>\n",
       "      <td>673.0</td>\n",
       "      <td>KRC Genk</td>\n",
       "      <td>GEN</td>\n",
       "    </tr>\n",
       "    <tr>\n",
       "      <th>1</th>\n",
       "      <td>2</td>\n",
       "      <td>9993</td>\n",
       "      <td>675.0</td>\n",
       "      <td>Beerschot AC</td>\n",
       "      <td>BAC</td>\n",
       "    </tr>\n",
       "    <tr>\n",
       "      <th>2</th>\n",
       "      <td>3</td>\n",
       "      <td>10000</td>\n",
       "      <td>15005.0</td>\n",
       "      <td>SV Zulte-Waregem</td>\n",
       "      <td>ZUL</td>\n",
       "    </tr>\n",
       "    <tr>\n",
       "      <th>3</th>\n",
       "      <td>4</td>\n",
       "      <td>9994</td>\n",
       "      <td>2007.0</td>\n",
       "      <td>Sporting Lokeren</td>\n",
       "      <td>LOK</td>\n",
       "    </tr>\n",
       "    <tr>\n",
       "      <th>4</th>\n",
       "      <td>5</td>\n",
       "      <td>9984</td>\n",
       "      <td>1750.0</td>\n",
       "      <td>KSV Cercle Brugge</td>\n",
       "      <td>CEB</td>\n",
       "    </tr>\n",
       "  </tbody>\n",
       "</table>\n",
       "</div>"
      ],
      "text/plain": [
       "   id  team_api_id  team_fifa_api_id     team_long_name team_short_name\n",
       "0   1         9987             673.0           KRC Genk             GEN\n",
       "1   2         9993             675.0       Beerschot AC             BAC\n",
       "2   3        10000           15005.0   SV Zulte-Waregem             ZUL\n",
       "3   4         9994            2007.0   Sporting Lokeren             LOK\n",
       "4   5         9984            1750.0  KSV Cercle Brugge             CEB"
      ]
     },
     "execution_count": 98,
     "metadata": {},
     "output_type": "execute_result"
    }
   ],
   "source": [
    "teams.head()"
   ]
  },
  {
   "cell_type": "code",
   "execution_count": 99,
   "id": "349afe34-bdbd-49dc-ade8-62b830dd255a",
   "metadata": {
    "tags": []
   },
   "outputs": [
    {
     "name": "stdout",
     "output_type": "stream",
     "text": [
      "<class 'pandas.core.frame.DataFrame'>\n",
      "RangeIndex: 299 entries, 0 to 298\n",
      "Data columns (total 5 columns):\n",
      " #   Column            Non-Null Count  Dtype  \n",
      "---  ------            --------------  -----  \n",
      " 0   id                299 non-null    int64  \n",
      " 1   team_api_id       299 non-null    int64  \n",
      " 2   team_fifa_api_id  288 non-null    float64\n",
      " 3   team_long_name    299 non-null    object \n",
      " 4   team_short_name   299 non-null    object \n",
      "dtypes: float64(1), int64(2), object(2)\n",
      "memory usage: 11.8+ KB\n"
     ]
    }
   ],
   "source": [
    "teams.info()"
   ]
  },
  {
   "cell_type": "markdown",
   "id": "bf542b9b-74df-4efa-b2e2-fa09a8768d72",
   "metadata": {},
   "source": [
    "### Team Attributes"
   ]
  },
  {
   "cell_type": "code",
   "execution_count": 100,
   "id": "56d1ab67-cdee-44e4-b06b-b82f126c9c46",
   "metadata": {},
   "outputs": [],
   "source": [
    "team_attr = pd.read_sql(f'SELECT * FROM team_attributes', conn)"
   ]
  },
  {
   "cell_type": "code",
   "execution_count": 101,
   "id": "4c767727-0a12-418b-a94c-f0df6269a0bb",
   "metadata": {
    "tags": []
   },
   "outputs": [
    {
     "data": {
      "text/html": [
       "<div>\n",
       "<style scoped>\n",
       "    .dataframe tbody tr th:only-of-type {\n",
       "        vertical-align: middle;\n",
       "    }\n",
       "\n",
       "    .dataframe tbody tr th {\n",
       "        vertical-align: top;\n",
       "    }\n",
       "\n",
       "    .dataframe thead th {\n",
       "        text-align: right;\n",
       "    }\n",
       "</style>\n",
       "<table border=\"1\" class=\"dataframe\">\n",
       "  <thead>\n",
       "    <tr style=\"text-align: right;\">\n",
       "      <th></th>\n",
       "      <th>id</th>\n",
       "      <th>team_fifa_api_id</th>\n",
       "      <th>team_api_id</th>\n",
       "      <th>date</th>\n",
       "      <th>buildUpPlaySpeed</th>\n",
       "      <th>buildUpPlaySpeedClass</th>\n",
       "      <th>buildUpPlayDribbling</th>\n",
       "      <th>buildUpPlayDribblingClass</th>\n",
       "      <th>buildUpPlayPassing</th>\n",
       "      <th>buildUpPlayPassingClass</th>\n",
       "      <th>...</th>\n",
       "      <th>chanceCreationShooting</th>\n",
       "      <th>chanceCreationShootingClass</th>\n",
       "      <th>chanceCreationPositioningClass</th>\n",
       "      <th>defencePressure</th>\n",
       "      <th>defencePressureClass</th>\n",
       "      <th>defenceAggression</th>\n",
       "      <th>defenceAggressionClass</th>\n",
       "      <th>defenceTeamWidth</th>\n",
       "      <th>defenceTeamWidthClass</th>\n",
       "      <th>defenceDefenderLineClass</th>\n",
       "    </tr>\n",
       "  </thead>\n",
       "  <tbody>\n",
       "    <tr>\n",
       "      <th>0</th>\n",
       "      <td>1</td>\n",
       "      <td>434</td>\n",
       "      <td>9930</td>\n",
       "      <td>2010-02-22 00:00:00</td>\n",
       "      <td>60</td>\n",
       "      <td>Balanced</td>\n",
       "      <td>NaN</td>\n",
       "      <td>Little</td>\n",
       "      <td>50</td>\n",
       "      <td>Mixed</td>\n",
       "      <td>...</td>\n",
       "      <td>55</td>\n",
       "      <td>Normal</td>\n",
       "      <td>Organised</td>\n",
       "      <td>50</td>\n",
       "      <td>Medium</td>\n",
       "      <td>55</td>\n",
       "      <td>Press</td>\n",
       "      <td>45</td>\n",
       "      <td>Normal</td>\n",
       "      <td>Cover</td>\n",
       "    </tr>\n",
       "    <tr>\n",
       "      <th>1</th>\n",
       "      <td>2</td>\n",
       "      <td>434</td>\n",
       "      <td>9930</td>\n",
       "      <td>2014-09-19 00:00:00</td>\n",
       "      <td>52</td>\n",
       "      <td>Balanced</td>\n",
       "      <td>48.0</td>\n",
       "      <td>Normal</td>\n",
       "      <td>56</td>\n",
       "      <td>Mixed</td>\n",
       "      <td>...</td>\n",
       "      <td>64</td>\n",
       "      <td>Normal</td>\n",
       "      <td>Organised</td>\n",
       "      <td>47</td>\n",
       "      <td>Medium</td>\n",
       "      <td>44</td>\n",
       "      <td>Press</td>\n",
       "      <td>54</td>\n",
       "      <td>Normal</td>\n",
       "      <td>Cover</td>\n",
       "    </tr>\n",
       "    <tr>\n",
       "      <th>2</th>\n",
       "      <td>3</td>\n",
       "      <td>434</td>\n",
       "      <td>9930</td>\n",
       "      <td>2015-09-10 00:00:00</td>\n",
       "      <td>47</td>\n",
       "      <td>Balanced</td>\n",
       "      <td>41.0</td>\n",
       "      <td>Normal</td>\n",
       "      <td>54</td>\n",
       "      <td>Mixed</td>\n",
       "      <td>...</td>\n",
       "      <td>64</td>\n",
       "      <td>Normal</td>\n",
       "      <td>Organised</td>\n",
       "      <td>47</td>\n",
       "      <td>Medium</td>\n",
       "      <td>44</td>\n",
       "      <td>Press</td>\n",
       "      <td>54</td>\n",
       "      <td>Normal</td>\n",
       "      <td>Cover</td>\n",
       "    </tr>\n",
       "    <tr>\n",
       "      <th>3</th>\n",
       "      <td>4</td>\n",
       "      <td>77</td>\n",
       "      <td>8485</td>\n",
       "      <td>2010-02-22 00:00:00</td>\n",
       "      <td>70</td>\n",
       "      <td>Fast</td>\n",
       "      <td>NaN</td>\n",
       "      <td>Little</td>\n",
       "      <td>70</td>\n",
       "      <td>Long</td>\n",
       "      <td>...</td>\n",
       "      <td>70</td>\n",
       "      <td>Lots</td>\n",
       "      <td>Organised</td>\n",
       "      <td>60</td>\n",
       "      <td>Medium</td>\n",
       "      <td>70</td>\n",
       "      <td>Double</td>\n",
       "      <td>70</td>\n",
       "      <td>Wide</td>\n",
       "      <td>Cover</td>\n",
       "    </tr>\n",
       "    <tr>\n",
       "      <th>4</th>\n",
       "      <td>5</td>\n",
       "      <td>77</td>\n",
       "      <td>8485</td>\n",
       "      <td>2011-02-22 00:00:00</td>\n",
       "      <td>47</td>\n",
       "      <td>Balanced</td>\n",
       "      <td>NaN</td>\n",
       "      <td>Little</td>\n",
       "      <td>52</td>\n",
       "      <td>Mixed</td>\n",
       "      <td>...</td>\n",
       "      <td>52</td>\n",
       "      <td>Normal</td>\n",
       "      <td>Organised</td>\n",
       "      <td>47</td>\n",
       "      <td>Medium</td>\n",
       "      <td>47</td>\n",
       "      <td>Press</td>\n",
       "      <td>52</td>\n",
       "      <td>Normal</td>\n",
       "      <td>Cover</td>\n",
       "    </tr>\n",
       "  </tbody>\n",
       "</table>\n",
       "<p>5 rows × 25 columns</p>\n",
       "</div>"
      ],
      "text/plain": [
       "   id  team_fifa_api_id  team_api_id                 date  buildUpPlaySpeed  \\\n",
       "0   1               434         9930  2010-02-22 00:00:00                60   \n",
       "1   2               434         9930  2014-09-19 00:00:00                52   \n",
       "2   3               434         9930  2015-09-10 00:00:00                47   \n",
       "3   4                77         8485  2010-02-22 00:00:00                70   \n",
       "4   5                77         8485  2011-02-22 00:00:00                47   \n",
       "\n",
       "  buildUpPlaySpeedClass  buildUpPlayDribbling buildUpPlayDribblingClass  \\\n",
       "0              Balanced                   NaN                    Little   \n",
       "1              Balanced                  48.0                    Normal   \n",
       "2              Balanced                  41.0                    Normal   \n",
       "3                  Fast                   NaN                    Little   \n",
       "4              Balanced                   NaN                    Little   \n",
       "\n",
       "   buildUpPlayPassing buildUpPlayPassingClass  ... chanceCreationShooting  \\\n",
       "0                  50                   Mixed  ...                     55   \n",
       "1                  56                   Mixed  ...                     64   \n",
       "2                  54                   Mixed  ...                     64   \n",
       "3                  70                    Long  ...                     70   \n",
       "4                  52                   Mixed  ...                     52   \n",
       "\n",
       "   chanceCreationShootingClass chanceCreationPositioningClass  \\\n",
       "0                       Normal                      Organised   \n",
       "1                       Normal                      Organised   \n",
       "2                       Normal                      Organised   \n",
       "3                         Lots                      Organised   \n",
       "4                       Normal                      Organised   \n",
       "\n",
       "   defencePressure defencePressureClass  defenceAggression  \\\n",
       "0               50               Medium                 55   \n",
       "1               47               Medium                 44   \n",
       "2               47               Medium                 44   \n",
       "3               60               Medium                 70   \n",
       "4               47               Medium                 47   \n",
       "\n",
       "  defenceAggressionClass defenceTeamWidth  defenceTeamWidthClass  \\\n",
       "0                  Press               45                 Normal   \n",
       "1                  Press               54                 Normal   \n",
       "2                  Press               54                 Normal   \n",
       "3                 Double               70                   Wide   \n",
       "4                  Press               52                 Normal   \n",
       "\n",
       "  defenceDefenderLineClass  \n",
       "0                    Cover  \n",
       "1                    Cover  \n",
       "2                    Cover  \n",
       "3                    Cover  \n",
       "4                    Cover  \n",
       "\n",
       "[5 rows x 25 columns]"
      ]
     },
     "execution_count": 101,
     "metadata": {},
     "output_type": "execute_result"
    }
   ],
   "source": [
    "team_attr.head()"
   ]
  },
  {
   "cell_type": "code",
   "execution_count": 102,
   "id": "2c68bcde-d1c8-4292-9637-fb7e14a1b807",
   "metadata": {
    "tags": []
   },
   "outputs": [
    {
     "name": "stdout",
     "output_type": "stream",
     "text": [
      "<class 'pandas.core.frame.DataFrame'>\n",
      "RangeIndex: 1458 entries, 0 to 1457\n",
      "Data columns (total 25 columns):\n",
      " #   Column                          Non-Null Count  Dtype  \n",
      "---  ------                          --------------  -----  \n",
      " 0   id                              1458 non-null   int64  \n",
      " 1   team_fifa_api_id                1458 non-null   int64  \n",
      " 2   team_api_id                     1458 non-null   int64  \n",
      " 3   date                            1458 non-null   object \n",
      " 4   buildUpPlaySpeed                1458 non-null   int64  \n",
      " 5   buildUpPlaySpeedClass           1458 non-null   object \n",
      " 6   buildUpPlayDribbling            489 non-null    float64\n",
      " 7   buildUpPlayDribblingClass       1458 non-null   object \n",
      " 8   buildUpPlayPassing              1458 non-null   int64  \n",
      " 9   buildUpPlayPassingClass         1458 non-null   object \n",
      " 10  buildUpPlayPositioningClass     1458 non-null   object \n",
      " 11  chanceCreationPassing           1458 non-null   int64  \n",
      " 12  chanceCreationPassingClass      1458 non-null   object \n",
      " 13  chanceCreationCrossing          1458 non-null   int64  \n",
      " 14  chanceCreationCrossingClass     1458 non-null   object \n",
      " 15  chanceCreationShooting          1458 non-null   int64  \n",
      " 16  chanceCreationShootingClass     1458 non-null   object \n",
      " 17  chanceCreationPositioningClass  1458 non-null   object \n",
      " 18  defencePressure                 1458 non-null   int64  \n",
      " 19  defencePressureClass            1458 non-null   object \n",
      " 20  defenceAggression               1458 non-null   int64  \n",
      " 21  defenceAggressionClass          1458 non-null   object \n",
      " 22  defenceTeamWidth                1458 non-null   int64  \n",
      " 23  defenceTeamWidthClass           1458 non-null   object \n",
      " 24  defenceDefenderLineClass        1458 non-null   object \n",
      "dtypes: float64(1), int64(11), object(13)\n",
      "memory usage: 284.9+ KB\n"
     ]
    }
   ],
   "source": [
    "team_attr.info()"
   ]
  },
  {
   "cell_type": "code",
   "execution_count": 103,
   "id": "b01fa28e-2b42-4c07-a9a8-76f2df51bcad",
   "metadata": {
    "tags": []
   },
   "outputs": [
    {
     "data": {
      "text/html": [
       "<div>\n",
       "<style scoped>\n",
       "    .dataframe tbody tr th:only-of-type {\n",
       "        vertical-align: middle;\n",
       "    }\n",
       "\n",
       "    .dataframe tbody tr th {\n",
       "        vertical-align: top;\n",
       "    }\n",
       "\n",
       "    .dataframe thead th {\n",
       "        text-align: right;\n",
       "    }\n",
       "</style>\n",
       "<table border=\"1\" class=\"dataframe\">\n",
       "  <thead>\n",
       "    <tr style=\"text-align: right;\">\n",
       "      <th></th>\n",
       "      <th>id</th>\n",
       "      <th>team_fifa_api_id</th>\n",
       "      <th>team_api_id</th>\n",
       "      <th>buildUpPlaySpeed</th>\n",
       "      <th>buildUpPlayDribbling</th>\n",
       "      <th>buildUpPlayPassing</th>\n",
       "      <th>chanceCreationPassing</th>\n",
       "      <th>chanceCreationCrossing</th>\n",
       "      <th>chanceCreationShooting</th>\n",
       "      <th>defencePressure</th>\n",
       "      <th>defenceAggression</th>\n",
       "      <th>defenceTeamWidth</th>\n",
       "    </tr>\n",
       "  </thead>\n",
       "  <tbody>\n",
       "    <tr>\n",
       "      <th>count</th>\n",
       "      <td>1458.000000</td>\n",
       "      <td>1458.000000</td>\n",
       "      <td>1458.000000</td>\n",
       "      <td>1458.000000</td>\n",
       "      <td>489.000000</td>\n",
       "      <td>1458.000000</td>\n",
       "      <td>1458.000000</td>\n",
       "      <td>1458.000000</td>\n",
       "      <td>1458.000000</td>\n",
       "      <td>1458.000000</td>\n",
       "      <td>1458.000000</td>\n",
       "      <td>1458.000000</td>\n",
       "    </tr>\n",
       "    <tr>\n",
       "      <th>mean</th>\n",
       "      <td>729.500000</td>\n",
       "      <td>17706.982167</td>\n",
       "      <td>9995.727023</td>\n",
       "      <td>52.462277</td>\n",
       "      <td>48.607362</td>\n",
       "      <td>48.490398</td>\n",
       "      <td>52.165295</td>\n",
       "      <td>53.731824</td>\n",
       "      <td>53.969136</td>\n",
       "      <td>46.017147</td>\n",
       "      <td>49.251029</td>\n",
       "      <td>52.185871</td>\n",
       "    </tr>\n",
       "    <tr>\n",
       "      <th>std</th>\n",
       "      <td>421.032659</td>\n",
       "      <td>39179.857739</td>\n",
       "      <td>13264.869900</td>\n",
       "      <td>11.545869</td>\n",
       "      <td>9.678290</td>\n",
       "      <td>10.896101</td>\n",
       "      <td>10.360793</td>\n",
       "      <td>11.086796</td>\n",
       "      <td>10.327566</td>\n",
       "      <td>10.227225</td>\n",
       "      <td>9.738028</td>\n",
       "      <td>9.574712</td>\n",
       "    </tr>\n",
       "    <tr>\n",
       "      <th>min</th>\n",
       "      <td>1.000000</td>\n",
       "      <td>1.000000</td>\n",
       "      <td>1601.000000</td>\n",
       "      <td>20.000000</td>\n",
       "      <td>24.000000</td>\n",
       "      <td>20.000000</td>\n",
       "      <td>21.000000</td>\n",
       "      <td>20.000000</td>\n",
       "      <td>22.000000</td>\n",
       "      <td>23.000000</td>\n",
       "      <td>24.000000</td>\n",
       "      <td>29.000000</td>\n",
       "    </tr>\n",
       "    <tr>\n",
       "      <th>25%</th>\n",
       "      <td>365.250000</td>\n",
       "      <td>110.000000</td>\n",
       "      <td>8457.750000</td>\n",
       "      <td>45.000000</td>\n",
       "      <td>42.000000</td>\n",
       "      <td>40.000000</td>\n",
       "      <td>46.000000</td>\n",
       "      <td>47.000000</td>\n",
       "      <td>48.000000</td>\n",
       "      <td>39.000000</td>\n",
       "      <td>44.000000</td>\n",
       "      <td>47.000000</td>\n",
       "    </tr>\n",
       "    <tr>\n",
       "      <th>50%</th>\n",
       "      <td>729.500000</td>\n",
       "      <td>485.000000</td>\n",
       "      <td>8674.000000</td>\n",
       "      <td>52.000000</td>\n",
       "      <td>49.000000</td>\n",
       "      <td>50.000000</td>\n",
       "      <td>52.000000</td>\n",
       "      <td>53.000000</td>\n",
       "      <td>53.000000</td>\n",
       "      <td>45.000000</td>\n",
       "      <td>48.000000</td>\n",
       "      <td>52.000000</td>\n",
       "    </tr>\n",
       "    <tr>\n",
       "      <th>75%</th>\n",
       "      <td>1093.750000</td>\n",
       "      <td>1900.000000</td>\n",
       "      <td>9904.000000</td>\n",
       "      <td>62.000000</td>\n",
       "      <td>55.000000</td>\n",
       "      <td>55.000000</td>\n",
       "      <td>59.000000</td>\n",
       "      <td>62.000000</td>\n",
       "      <td>61.000000</td>\n",
       "      <td>51.000000</td>\n",
       "      <td>55.000000</td>\n",
       "      <td>58.000000</td>\n",
       "    </tr>\n",
       "    <tr>\n",
       "      <th>max</th>\n",
       "      <td>1458.000000</td>\n",
       "      <td>112513.000000</td>\n",
       "      <td>274581.000000</td>\n",
       "      <td>80.000000</td>\n",
       "      <td>77.000000</td>\n",
       "      <td>80.000000</td>\n",
       "      <td>80.000000</td>\n",
       "      <td>80.000000</td>\n",
       "      <td>80.000000</td>\n",
       "      <td>72.000000</td>\n",
       "      <td>72.000000</td>\n",
       "      <td>73.000000</td>\n",
       "    </tr>\n",
       "  </tbody>\n",
       "</table>\n",
       "</div>"
      ],
      "text/plain": [
       "                id  team_fifa_api_id    team_api_id  buildUpPlaySpeed  \\\n",
       "count  1458.000000       1458.000000    1458.000000       1458.000000   \n",
       "mean    729.500000      17706.982167    9995.727023         52.462277   \n",
       "std     421.032659      39179.857739   13264.869900         11.545869   \n",
       "min       1.000000          1.000000    1601.000000         20.000000   \n",
       "25%     365.250000        110.000000    8457.750000         45.000000   \n",
       "50%     729.500000        485.000000    8674.000000         52.000000   \n",
       "75%    1093.750000       1900.000000    9904.000000         62.000000   \n",
       "max    1458.000000     112513.000000  274581.000000         80.000000   \n",
       "\n",
       "       buildUpPlayDribbling  buildUpPlayPassing  chanceCreationPassing  \\\n",
       "count            489.000000         1458.000000            1458.000000   \n",
       "mean              48.607362           48.490398              52.165295   \n",
       "std                9.678290           10.896101              10.360793   \n",
       "min               24.000000           20.000000              21.000000   \n",
       "25%               42.000000           40.000000              46.000000   \n",
       "50%               49.000000           50.000000              52.000000   \n",
       "75%               55.000000           55.000000              59.000000   \n",
       "max               77.000000           80.000000              80.000000   \n",
       "\n",
       "       chanceCreationCrossing  chanceCreationShooting  defencePressure  \\\n",
       "count             1458.000000             1458.000000      1458.000000   \n",
       "mean                53.731824               53.969136        46.017147   \n",
       "std                 11.086796               10.327566        10.227225   \n",
       "min                 20.000000               22.000000        23.000000   \n",
       "25%                 47.000000               48.000000        39.000000   \n",
       "50%                 53.000000               53.000000        45.000000   \n",
       "75%                 62.000000               61.000000        51.000000   \n",
       "max                 80.000000               80.000000        72.000000   \n",
       "\n",
       "       defenceAggression  defenceTeamWidth  \n",
       "count        1458.000000       1458.000000  \n",
       "mean           49.251029         52.185871  \n",
       "std             9.738028          9.574712  \n",
       "min            24.000000         29.000000  \n",
       "25%            44.000000         47.000000  \n",
       "50%            48.000000         52.000000  \n",
       "75%            55.000000         58.000000  \n",
       "max            72.000000         73.000000  "
      ]
     },
     "execution_count": 103,
     "metadata": {},
     "output_type": "execute_result"
    }
   ],
   "source": [
    "team_attr.describe()"
   ]
  },
  {
   "cell_type": "markdown",
   "id": "cff27276-6729-4190-80b8-61b275de98d7",
   "metadata": {},
   "source": [
    " "
   ]
  },
  {
   "cell_type": "markdown",
   "id": "819c8592-5046-41a9-9281-691727c6e7d2",
   "metadata": {},
   "source": [
    " "
   ]
  },
  {
   "cell_type": "markdown",
   "id": "1a66fe9c-d008-4b13-8258-ad2743f7b749",
   "metadata": {},
   "source": [
    "## Exploratory data analysis"
   ]
  },
  {
   "cell_type": "markdown",
   "id": "b9e22390-96a5-4fdc-b872-8c9c4d730d9c",
   "metadata": {},
   "source": [
    "### What is the age distribution of players?\n",
    "I will look a the age of the players per season"
   ]
  },
  {
   "cell_type": "markdown",
   "id": "a495e62a-1aae-43f7-a7e1-aab2ff04bd2d",
   "metadata": {},
   "source": [
    " "
   ]
  },
  {
   "cell_type": "markdown",
   "id": "e95d6559-0748-4c8d-b811-23d6adab25fb",
   "metadata": {},
   "source": [
    " "
   ]
  },
  {
   "cell_type": "markdown",
   "id": "aa75aeef-311a-4efb-b082-a31e446b3d70",
   "metadata": {},
   "source": [
    "In the following cells, I am going to build a dataframe with the `season, date and player_id`.\n",
    "<br>\n",
    "I am going to put all the player's ids into one column with the date and season being a unique identifier"
   ]
  },
  {
   "cell_type": "code",
   "execution_count": 105,
   "id": "25a07515-7ef9-498e-b01a-fd3b7f5fa88a",
   "metadata": {},
   "outputs": [],
   "source": [
    "# selecting player id columns\n",
    "player_ids = [\n",
    "    'home_player_1', 'home_player_2',\n",
    "   'home_player_3', 'home_player_4', 'home_player_5', 'home_player_6',\n",
    "   'home_player_7', 'home_player_8', 'home_player_9',\n",
    "   'home_player_10', 'home_player_11', 'away_player_1',\n",
    "   'away_player_2', 'away_player_3', 'away_player_4', 'away_player_5',\n",
    "   'away_player_6', 'away_player_7', 'away_player_8', 'away_player_9',\n",
    "   'away_player_10', 'away_player_11']"
   ]
  },
  {
   "cell_type": "code",
   "execution_count": 106,
   "id": "c0a1cacd-ba32-4be6-b0db-686c0b034647",
   "metadata": {},
   "outputs": [],
   "source": [
    "match_time_features = ['season','date'] # selecting season and date columns"
   ]
  },
  {
   "cell_type": "markdown",
   "id": "3fd398fe-89b4-4e5c-b5bc-f9c81bf8ae3d",
   "metadata": {},
   "source": [
    " "
   ]
  },
  {
   "cell_type": "markdown",
   "id": "b3254cf6-53f9-4f48-a689-7bdf559cc1bd",
   "metadata": {},
   "source": [
    "The below cell removes all the rows with `null` values"
   ]
  },
  {
   "cell_type": "code",
   "execution_count": 107,
   "id": "95b90ab3-7623-48ba-827b-aca0708273d5",
   "metadata": {},
   "outputs": [],
   "source": [
    "match_players = matches[match_time_features+player_ids][np.invert(matches[player_ids].isnull().any(axis=1))]"
   ]
  },
  {
   "cell_type": "code",
   "execution_count": 108,
   "id": "f660bfe2-a150-4aaa-b52e-b21b5cc0cdf0",
   "metadata": {},
   "outputs": [
    {
     "data": {
      "text/html": [
       "<div>\n",
       "<style scoped>\n",
       "    .dataframe tbody tr th:only-of-type {\n",
       "        vertical-align: middle;\n",
       "    }\n",
       "\n",
       "    .dataframe tbody tr th {\n",
       "        vertical-align: top;\n",
       "    }\n",
       "\n",
       "    .dataframe thead th {\n",
       "        text-align: right;\n",
       "    }\n",
       "</style>\n",
       "<table border=\"1\" class=\"dataframe\">\n",
       "  <thead>\n",
       "    <tr style=\"text-align: right;\">\n",
       "      <th></th>\n",
       "      <th>season</th>\n",
       "      <th>date</th>\n",
       "      <th>home_player_1</th>\n",
       "      <th>home_player_2</th>\n",
       "      <th>home_player_3</th>\n",
       "      <th>home_player_4</th>\n",
       "      <th>home_player_5</th>\n",
       "      <th>home_player_6</th>\n",
       "      <th>home_player_7</th>\n",
       "      <th>home_player_8</th>\n",
       "      <th>...</th>\n",
       "      <th>away_player_2</th>\n",
       "      <th>away_player_3</th>\n",
       "      <th>away_player_4</th>\n",
       "      <th>away_player_5</th>\n",
       "      <th>away_player_6</th>\n",
       "      <th>away_player_7</th>\n",
       "      <th>away_player_8</th>\n",
       "      <th>away_player_9</th>\n",
       "      <th>away_player_10</th>\n",
       "      <th>away_player_11</th>\n",
       "    </tr>\n",
       "  </thead>\n",
       "  <tbody>\n",
       "    <tr>\n",
       "      <th>145</th>\n",
       "      <td>2008/2009</td>\n",
       "      <td>2009-02-27 00:00:00</td>\n",
       "      <td>38327.0</td>\n",
       "      <td>67950.0</td>\n",
       "      <td>67958.0</td>\n",
       "      <td>67959.0</td>\n",
       "      <td>37112.0</td>\n",
       "      <td>36393.0</td>\n",
       "      <td>148286.0</td>\n",
       "      <td>67898.0</td>\n",
       "      <td>...</td>\n",
       "      <td>38293.0</td>\n",
       "      <td>148313.0</td>\n",
       "      <td>104411.0</td>\n",
       "      <td>148314.0</td>\n",
       "      <td>37202.0</td>\n",
       "      <td>43158.0</td>\n",
       "      <td>9307.0</td>\n",
       "      <td>42153.0</td>\n",
       "      <td>32690.0</td>\n",
       "      <td>38782.0</td>\n",
       "    </tr>\n",
       "    <tr>\n",
       "      <th>153</th>\n",
       "      <td>2008/2009</td>\n",
       "      <td>2009-03-08 00:00:00</td>\n",
       "      <td>36835.0</td>\n",
       "      <td>37047.0</td>\n",
       "      <td>37021.0</td>\n",
       "      <td>37051.0</td>\n",
       "      <td>104386.0</td>\n",
       "      <td>32863.0</td>\n",
       "      <td>37957.0</td>\n",
       "      <td>37909.0</td>\n",
       "      <td>...</td>\n",
       "      <td>21812.0</td>\n",
       "      <td>11736.0</td>\n",
       "      <td>37858.0</td>\n",
       "      <td>38366.0</td>\n",
       "      <td>37983.0</td>\n",
       "      <td>39578.0</td>\n",
       "      <td>38336.0</td>\n",
       "      <td>52280.0</td>\n",
       "      <td>27423.0</td>\n",
       "      <td>38440.0</td>\n",
       "    </tr>\n",
       "    <tr>\n",
       "      <th>155</th>\n",
       "      <td>2008/2009</td>\n",
       "      <td>2009-03-07 00:00:00</td>\n",
       "      <td>34480.0</td>\n",
       "      <td>38388.0</td>\n",
       "      <td>26458.0</td>\n",
       "      <td>13423.0</td>\n",
       "      <td>38389.0</td>\n",
       "      <td>30949.0</td>\n",
       "      <td>38393.0</td>\n",
       "      <td>38253.0</td>\n",
       "      <td>...</td>\n",
       "      <td>37886.0</td>\n",
       "      <td>37903.0</td>\n",
       "      <td>37889.0</td>\n",
       "      <td>94030.0</td>\n",
       "      <td>37893.0</td>\n",
       "      <td>37981.0</td>\n",
       "      <td>131531.0</td>\n",
       "      <td>130027.0</td>\n",
       "      <td>38231.0</td>\n",
       "      <td>131530.0</td>\n",
       "    </tr>\n",
       "    <tr>\n",
       "      <th>162</th>\n",
       "      <td>2008/2009</td>\n",
       "      <td>2009-03-13 00:00:00</td>\n",
       "      <td>38327.0</td>\n",
       "      <td>67950.0</td>\n",
       "      <td>67958.0</td>\n",
       "      <td>38801.0</td>\n",
       "      <td>67898.0</td>\n",
       "      <td>37112.0</td>\n",
       "      <td>67959.0</td>\n",
       "      <td>148286.0</td>\n",
       "      <td>...</td>\n",
       "      <td>38388.0</td>\n",
       "      <td>38389.0</td>\n",
       "      <td>31316.0</td>\n",
       "      <td>164694.0</td>\n",
       "      <td>30949.0</td>\n",
       "      <td>38378.0</td>\n",
       "      <td>38383.0</td>\n",
       "      <td>38393.0</td>\n",
       "      <td>38253.0</td>\n",
       "      <td>37069.0</td>\n",
       "    </tr>\n",
       "    <tr>\n",
       "      <th>168</th>\n",
       "      <td>2008/2009</td>\n",
       "      <td>2009-03-14 00:00:00</td>\n",
       "      <td>37900.0</td>\n",
       "      <td>37886.0</td>\n",
       "      <td>37100.0</td>\n",
       "      <td>37903.0</td>\n",
       "      <td>37889.0</td>\n",
       "      <td>37893.0</td>\n",
       "      <td>37981.0</td>\n",
       "      <td>131531.0</td>\n",
       "      <td>...</td>\n",
       "      <td>38247.0</td>\n",
       "      <td>16387.0</td>\n",
       "      <td>94288.0</td>\n",
       "      <td>94284.0</td>\n",
       "      <td>45832.0</td>\n",
       "      <td>26669.0</td>\n",
       "      <td>33671.0</td>\n",
       "      <td>163670.0</td>\n",
       "      <td>37945.0</td>\n",
       "      <td>33622.0</td>\n",
       "    </tr>\n",
       "  </tbody>\n",
       "</table>\n",
       "<p>5 rows × 24 columns</p>\n",
       "</div>"
      ],
      "text/plain": [
       "        season                 date  home_player_1  home_player_2  \\\n",
       "145  2008/2009  2009-02-27 00:00:00        38327.0        67950.0   \n",
       "153  2008/2009  2009-03-08 00:00:00        36835.0        37047.0   \n",
       "155  2008/2009  2009-03-07 00:00:00        34480.0        38388.0   \n",
       "162  2008/2009  2009-03-13 00:00:00        38327.0        67950.0   \n",
       "168  2008/2009  2009-03-14 00:00:00        37900.0        37886.0   \n",
       "\n",
       "     home_player_3  home_player_4  home_player_5  home_player_6  \\\n",
       "145        67958.0        67959.0        37112.0        36393.0   \n",
       "153        37021.0        37051.0       104386.0        32863.0   \n",
       "155        26458.0        13423.0        38389.0        30949.0   \n",
       "162        67958.0        38801.0        67898.0        37112.0   \n",
       "168        37100.0        37903.0        37889.0        37893.0   \n",
       "\n",
       "     home_player_7  home_player_8  ...  away_player_2  away_player_3  \\\n",
       "145       148286.0        67898.0  ...        38293.0       148313.0   \n",
       "153        37957.0        37909.0  ...        21812.0        11736.0   \n",
       "155        38393.0        38253.0  ...        37886.0        37903.0   \n",
       "162        67959.0       148286.0  ...        38388.0        38389.0   \n",
       "168        37981.0       131531.0  ...        38247.0        16387.0   \n",
       "\n",
       "     away_player_4  away_player_5  away_player_6  away_player_7  \\\n",
       "145       104411.0       148314.0        37202.0        43158.0   \n",
       "153        37858.0        38366.0        37983.0        39578.0   \n",
       "155        37889.0        94030.0        37893.0        37981.0   \n",
       "162        31316.0       164694.0        30949.0        38378.0   \n",
       "168        94288.0        94284.0        45832.0        26669.0   \n",
       "\n",
       "     away_player_8  away_player_9  away_player_10  away_player_11  \n",
       "145         9307.0        42153.0         32690.0         38782.0  \n",
       "153        38336.0        52280.0         27423.0         38440.0  \n",
       "155       131531.0       130027.0         38231.0        131530.0  \n",
       "162        38383.0        38393.0         38253.0         37069.0  \n",
       "168        33671.0       163670.0         37945.0         33622.0  \n",
       "\n",
       "[5 rows x 24 columns]"
      ]
     },
     "execution_count": 108,
     "metadata": {},
     "output_type": "execute_result"
    }
   ],
   "source": [
    "match_players.head()"
   ]
  },
  {
   "cell_type": "markdown",
   "id": "390aa12e-3826-4bf4-94a3-4b2b929a04fa",
   "metadata": {},
   "source": [
    " "
   ]
  },
  {
   "cell_type": "markdown",
   "id": "c98e4715-c86c-4d99-aa87-b1dcd57de98a",
   "metadata": {},
   "source": [
    "The function below selects every the player ids and stack them on top of each other to create a dataframe of such a form `season, date, player_api_id`"
   ]
  },
  {
   "cell_type": "code",
   "execution_count": 126,
   "id": "83b33a33-612f-4de8-bf7d-6f63f81f623b",
   "metadata": {},
   "outputs": [],
   "source": [
    "def stack_player_ids(df, match_time_features, player_ids):\n",
    "    to_concat = []\n",
    "    for player_id in player_ids:\n",
    "        to_concat.append(df[match_time_features+[player_id]].rename(columns={player_id:'player_api_id'}))\n",
    "        \n",
    "    return pd.concat(to_concat, ignore_index=True)"
   ]
  },
  {
   "cell_type": "code",
   "execution_count": 127,
   "id": "43a4e6f3-efa4-4cf8-864e-02178de5dffb",
   "metadata": {},
   "outputs": [],
   "source": [
    "players_in_season = stack_player_ids(match_players, match_time_features,player_ids)"
   ]
  },
  {
   "cell_type": "code",
   "execution_count": 128,
   "id": "a490ffb0-1ffe-441a-9705-ffa8834ecf3c",
   "metadata": {},
   "outputs": [
    {
     "data": {
      "text/html": [
       "<div>\n",
       "<style scoped>\n",
       "    .dataframe tbody tr th:only-of-type {\n",
       "        vertical-align: middle;\n",
       "    }\n",
       "\n",
       "    .dataframe tbody tr th {\n",
       "        vertical-align: top;\n",
       "    }\n",
       "\n",
       "    .dataframe thead th {\n",
       "        text-align: right;\n",
       "    }\n",
       "</style>\n",
       "<table border=\"1\" class=\"dataframe\">\n",
       "  <thead>\n",
       "    <tr style=\"text-align: right;\">\n",
       "      <th></th>\n",
       "      <th>season</th>\n",
       "      <th>date</th>\n",
       "      <th>player_api_id</th>\n",
       "    </tr>\n",
       "  </thead>\n",
       "  <tbody>\n",
       "    <tr>\n",
       "      <th>0</th>\n",
       "      <td>2008/2009</td>\n",
       "      <td>2009-02-27 00:00:00</td>\n",
       "      <td>38327.0</td>\n",
       "    </tr>\n",
       "    <tr>\n",
       "      <th>1</th>\n",
       "      <td>2008/2009</td>\n",
       "      <td>2009-03-08 00:00:00</td>\n",
       "      <td>36835.0</td>\n",
       "    </tr>\n",
       "    <tr>\n",
       "      <th>2</th>\n",
       "      <td>2008/2009</td>\n",
       "      <td>2009-03-07 00:00:00</td>\n",
       "      <td>34480.0</td>\n",
       "    </tr>\n",
       "    <tr>\n",
       "      <th>3</th>\n",
       "      <td>2008/2009</td>\n",
       "      <td>2009-03-13 00:00:00</td>\n",
       "      <td>38327.0</td>\n",
       "    </tr>\n",
       "    <tr>\n",
       "      <th>4</th>\n",
       "      <td>2008/2009</td>\n",
       "      <td>2009-03-14 00:00:00</td>\n",
       "      <td>37900.0</td>\n",
       "    </tr>\n",
       "  </tbody>\n",
       "</table>\n",
       "</div>"
      ],
      "text/plain": [
       "      season                 date  player_api_id\n",
       "0  2008/2009  2009-02-27 00:00:00        38327.0\n",
       "1  2008/2009  2009-03-08 00:00:00        36835.0\n",
       "2  2008/2009  2009-03-07 00:00:00        34480.0\n",
       "3  2008/2009  2009-03-13 00:00:00        38327.0\n",
       "4  2008/2009  2009-03-14 00:00:00        37900.0"
      ]
     },
     "execution_count": 128,
     "metadata": {},
     "output_type": "execute_result"
    }
   ],
   "source": [
    "players_in_season.head()"
   ]
  },
  {
   "cell_type": "code",
   "execution_count": 129,
   "id": "40a82e76-786b-451d-a526-2e90d6e58d1c",
   "metadata": {},
   "outputs": [],
   "source": [
    "players_in_season.player_api_id = players_in_season.player_api_id.astype(int)\n",
    "players_in_season.date = pd.to_datetime(players_in_season.date)"
   ]
  },
  {
   "cell_type": "code",
   "execution_count": 130,
   "id": "10fc9135-be4b-4151-bea5-b75fa949e513",
   "metadata": {},
   "outputs": [
    {
     "name": "stdout",
     "output_type": "stream",
     "text": [
      "<class 'pandas.core.frame.DataFrame'>\n",
      "RangeIndex: 470228 entries, 0 to 470227\n",
      "Data columns (total 3 columns):\n",
      " #   Column         Non-Null Count   Dtype         \n",
      "---  ------         --------------   -----         \n",
      " 0   season         470228 non-null  object        \n",
      " 1   date           470228 non-null  datetime64[ns]\n",
      " 2   player_api_id  470228 non-null  int64         \n",
      "dtypes: datetime64[ns](1), int64(1), object(1)\n",
      "memory usage: 10.8+ MB\n"
     ]
    }
   ],
   "source": [
    "players_in_season.info()"
   ]
  },
  {
   "cell_type": "markdown",
   "id": "bcad5a19-9637-4563-b612-c1cbae8eb324",
   "metadata": {},
   "source": [
    " "
   ]
  },
  {
   "cell_type": "code",
   "execution_count": 131,
   "id": "eeb08603-78ae-46d9-897d-d04ec6ad4726",
   "metadata": {},
   "outputs": [
    {
     "data": {
      "text/plain": [
       "7"
      ]
     },
     "execution_count": 131,
     "metadata": {},
     "output_type": "execute_result"
    }
   ],
   "source": [
    "sum(players_in_season.duplicated())"
   ]
  },
  {
   "cell_type": "code",
   "execution_count": 132,
   "id": "94f1fda4-138a-4b8a-ab30-83003265af77",
   "metadata": {},
   "outputs": [],
   "source": [
    "players_in_season.drop_duplicates(inplace=True)"
   ]
  },
  {
   "cell_type": "code",
   "execution_count": 133,
   "id": "cd661456-9310-43d2-ac0f-a37edd0563dd",
   "metadata": {},
   "outputs": [
    {
     "data": {
      "text/plain": [
       "0"
      ]
     },
     "execution_count": 133,
     "metadata": {},
     "output_type": "execute_result"
    }
   ],
   "source": [
    "sum(players_in_season.duplicated())"
   ]
  },
  {
   "cell_type": "markdown",
   "id": "00e0f2fc-3ddd-4a94-86f7-bdc5c8ff92e2",
   "metadata": {},
   "source": [
    " "
   ]
  },
  {
   "cell_type": "markdown",
   "id": "337b75de-28e4-4c04-8285-1e39d22bc390",
   "metadata": {},
   "source": [
    "To be able to get the ages of the players I merge `players` and `players_per_season` dataframes.\n",
    "\n",
    "When the tables are merged I will have the date of the game play and the date of birth of the players, which I can use to determine the age of the players"
   ]
  },
  {
   "cell_type": "code",
   "execution_count": 134,
   "id": "f5b381be-4bb5-428a-996d-65a007fab87e",
   "metadata": {},
   "outputs": [
    {
     "name": "stdout",
     "output_type": "stream",
     "text": [
      "<class 'pandas.core.frame.DataFrame'>\n",
      "RangeIndex: 11060 entries, 0 to 11059\n",
      "Data columns (total 7 columns):\n",
      " #   Column              Non-Null Count  Dtype         \n",
      "---  ------              --------------  -----         \n",
      " 0   id                  11060 non-null  int64         \n",
      " 1   player_api_id       11060 non-null  int64         \n",
      " 2   player_name         11060 non-null  object        \n",
      " 3   player_fifa_api_id  11060 non-null  int64         \n",
      " 4   birthday            11060 non-null  datetime64[ns]\n",
      " 5   height              11060 non-null  float64       \n",
      " 6   weight              11060 non-null  float64       \n",
      "dtypes: datetime64[ns](1), float64(2), int64(3), object(1)\n",
      "memory usage: 605.0+ KB\n"
     ]
    }
   ],
   "source": [
    "players.info()"
   ]
  },
  {
   "cell_type": "code",
   "execution_count": 117,
   "id": "de734139-5d6b-43c3-bf43-0d6d3ea692f2",
   "metadata": {},
   "outputs": [],
   "source": [
    "players_per_season = players.merge(players_in_season, on='player_api_id')"
   ]
  },
  {
   "cell_type": "code",
   "execution_count": 118,
   "id": "30bb583e-1b11-4ded-a41a-f735975dac3c",
   "metadata": {},
   "outputs": [],
   "source": [
    "players_per_season['player_age'] = ((players_per_season.date-players_per_season.birthday)/np.timedelta64(1, 'Y')).astype(int)"
   ]
  },
  {
   "cell_type": "markdown",
   "id": "ff293976-28c8-41e0-abf0-119a5af15f9d",
   "metadata": {},
   "source": [
    "The above cell computes the age of the player"
   ]
  },
  {
   "cell_type": "markdown",
   "id": "83ed0037-aae7-48ad-b65c-94de6dd429dd",
   "metadata": {},
   "source": [
    " "
   ]
  },
  {
   "cell_type": "code",
   "execution_count": 119,
   "id": "5e65697f-d1c8-4ca0-81fb-f122f1a11960",
   "metadata": {},
   "outputs": [],
   "source": [
    "age_distribution_per_seaon = players_per_season.groupby(['season','player_api_id']).mean()"
   ]
  },
  {
   "cell_type": "markdown",
   "id": "c8c00864-bc16-4c3b-8c71-b22829f55d0a",
   "metadata": {},
   "source": [
    "The above cell"
   ]
  },
  {
   "cell_type": "code",
   "execution_count": null,
   "id": "15c5891c-b11f-4b49-ade5-236122460fd2",
   "metadata": {},
   "outputs": [],
   "source": []
  },
  {
   "cell_type": "code",
   "execution_count": 141,
   "id": "f09d9123-59ca-4140-8e5f-aabe28caddd6",
   "metadata": {},
   "outputs": [
    {
     "data": {
      "image/png": "[encoded data removed]",
      "text/plain": [
       "<Figure size 720x720 with 1 Axes>"
      ]
     },
     "metadata": {
      "needs_background": "light"
     },
     "output_type": "display_data"
    }
   ],
   "source": [
    "for season in age_distribution_per_seaon.index.levels[0]:\n",
    "    age_distribution_per_seaon.loc[season].player_age.hist(alpha=0.5, figsize=(10,10), label=f'season_{season}', bins=30)\n",
    "    \n",
    "plt.title('\\nPlayer Age Distribution Over the Seasons\\n')\n",
    "plt.xlabel('Player Age')\n",
    "plt.ylabel('Count of Players')\n",
    "plt.legend();"
   ]
  },
  {
   "cell_type": "code",
   "execution_count": null,
   "id": "9a5bae82-d9b5-4e85-b6b2-a21a6dfb3e29",
   "metadata": {},
   "outputs": [],
   "source": []
  }
 ],
 "metadata": {
  "kernelspec": {
   "display_name": "Python 3",
   "language": "python",
   "name": "python3"
  },
  "language_info": {
   "codemirror_mode": {
    "name": "ipython",
    "version": 3
   },
   "file_extension": ".py",
   "mimetype": "text/x-python",
   "name": "python",
   "nbconvert_exporter": "python",
   "pygments_lexer": "ipython3",
   "version": "3.8.8"
  }
 },
 "nbformat": 4,
 "nbformat_minor": 5
}
